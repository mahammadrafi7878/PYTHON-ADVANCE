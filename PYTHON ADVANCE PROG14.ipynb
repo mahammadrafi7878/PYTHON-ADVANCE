{
 "cells": [
  {
   "cell_type": "raw",
   "id": "34822813",
   "metadata": {},
   "source": [
    "Q1. Is an assignment operator like += only for show? Is it possible that it would lead to faster results at the runtime?"
   ]
  },
  {
   "cell_type": "raw",
   "id": "2e5d9a87",
   "metadata": {},
   "source": [
    "\"+=\"  operator is not only for show , it would be lead to give faster results as well. lets taking two methods and simplyfying it. \n",
    "'+=' operator adds a number to varriable and changing the variable itself in the proces. The addition assignment operator adds the value of the right operand to a variable and assigns the result to the variable"
   ]
  },
  {
   "cell_type": "code",
   "execution_count": 4,
   "id": "b7efc0f0",
   "metadata": {},
   "outputs": [
    {
     "name": "stdout",
     "output_type": "stream",
     "text": [
      "Wall time: 135 ms\n"
     ]
    }
   ],
   "source": [
    "# function  with out using \"=+\" operator\n",
    "import numpy as np\n",
    "def not_in_place(n):\n",
    "    x=np.arange(n)\n",
    "    x=x+1\n",
    "%time not_in_place(10**7)"
   ]
  },
  {
   "cell_type": "code",
   "execution_count": 5,
   "id": "4aaf3e82",
   "metadata": {},
   "outputs": [
    {
     "name": "stdout",
     "output_type": "stream",
     "text": [
      "Wall time: 32 ms\n"
     ]
    }
   ],
   "source": [
    "def in_place(n):\n",
    "    x=np.arange(n)\n",
    "    x+=1\n",
    "%time in_place(10**7)"
   ]
  },
  {
   "cell_type": "code",
   "execution_count": 6,
   "id": "790aa75e",
   "metadata": {},
   "outputs": [],
   "source": [
    "# from bove two functions we can clearly seen \"=+\" gives result more fastly"
   ]
  },
  {
   "cell_type": "raw",
   "id": "1614326b",
   "metadata": {},
   "source": [
    "Q2. What is the smallest number of statements you'd have to write in most programming languages to replace the Python expression a, b = a + b, a?"
   ]
  },
  {
   "cell_type": "raw",
   "id": "ac91bf53",
   "metadata": {},
   "source": [
    "the generic of a,b=a+b,a  is assignment of one tuple to another , the evaluation order is here is left to right, so first the value of 'b' is assigned to 'a' , then value of 'b' is assigned to 'a'. It is called as tuple unlocking.\n",
    "\n",
    "the another way of writing this expression is \n",
    "b=a\n",
    "a=a+b"
   ]
  },
  {
   "cell_type": "raw",
   "id": "700389ad",
   "metadata": {},
   "source": [
    "Q3. In Python, what is the most effective way to set a list of 100 integers to 0?"
   ]
  },
  {
   "cell_type": "code",
   "execution_count": 27,
   "id": "e220796b",
   "metadata": {},
   "outputs": [
    {
     "name": "stdout",
     "output_type": "stream",
     "text": [
      "100\n",
      "99\n",
      "98\n",
      "97\n",
      "96\n",
      "95\n",
      "94\n",
      "93\n",
      "92\n",
      "91\n",
      "90\n",
      "89\n",
      "88\n",
      "87\n",
      "86\n",
      "85\n",
      "84\n",
      "83\n",
      "82\n",
      "81\n",
      "80\n",
      "79\n",
      "78\n",
      "77\n",
      "76\n",
      "75\n",
      "74\n",
      "73\n",
      "72\n",
      "71\n",
      "70\n",
      "69\n",
      "68\n",
      "67\n",
      "66\n",
      "65\n",
      "64\n",
      "63\n",
      "62\n",
      "61\n",
      "60\n",
      "59\n",
      "58\n",
      "57\n",
      "56\n",
      "55\n",
      "54\n",
      "53\n",
      "52\n",
      "51\n",
      "50\n",
      "49\n",
      "48\n",
      "47\n",
      "46\n",
      "45\n",
      "44\n",
      "43\n",
      "42\n",
      "41\n",
      "40\n",
      "39\n",
      "38\n",
      "37\n",
      "36\n",
      "35\n",
      "34\n",
      "33\n",
      "32\n",
      "31\n",
      "30\n",
      "29\n",
      "28\n",
      "27\n",
      "26\n",
      "25\n",
      "24\n",
      "23\n",
      "22\n",
      "21\n",
      "20\n",
      "19\n",
      "18\n",
      "17\n",
      "16\n",
      "15\n",
      "14\n",
      "13\n",
      "12\n",
      "11\n",
      "10\n",
      "9\n",
      "8\n",
      "7\n",
      "6\n",
      "5\n",
      "4\n",
      "3\n",
      "2\n",
      "1\n",
      "100\n",
      "99\n",
      "98\n",
      "97\n",
      "96\n",
      "95\n",
      "94\n",
      "93\n",
      "92\n",
      "91\n",
      "90\n",
      "89\n",
      "88\n",
      "87\n",
      "86\n",
      "85\n",
      "84\n",
      "83\n",
      "82\n",
      "81\n",
      "80\n",
      "79\n",
      "78\n",
      "77\n",
      "76\n",
      "75\n",
      "74\n",
      "73\n",
      "72\n",
      "71\n",
      "70\n",
      "69\n",
      "68\n",
      "67\n",
      "66\n",
      "65\n",
      "64\n",
      "63\n",
      "62\n",
      "61\n",
      "60\n",
      "59\n",
      "58\n",
      "57\n",
      "56\n",
      "55\n",
      "54\n",
      "53\n",
      "52\n",
      "51\n",
      "50\n",
      "49\n",
      "48\n",
      "47\n",
      "46\n",
      "45\n",
      "44\n",
      "43\n",
      "42\n",
      "41\n",
      "40\n",
      "39\n",
      "38\n",
      "37\n",
      "36\n",
      "35\n",
      "34\n",
      "33\n",
      "32\n",
      "31\n",
      "30\n",
      "29\n",
      "28\n",
      "27\n",
      "26\n",
      "25\n",
      "24\n",
      "23\n",
      "22\n",
      "21\n",
      "20\n",
      "19\n",
      "18\n",
      "17\n",
      "16\n",
      "15\n",
      "14\n",
      "13\n",
      "12\n",
      "11\n",
      "10\n",
      "9\n",
      "8\n",
      "7\n",
      "6\n",
      "5\n",
      "4\n",
      "3\n",
      "2\n",
      "1\n"
     ]
    },
    {
     "data": {
      "text/plain": [
       "[100,\n",
       " 99,\n",
       " 98,\n",
       " 97,\n",
       " 96,\n",
       " 95,\n",
       " 94,\n",
       " 93,\n",
       " 92,\n",
       " 91,\n",
       " 90,\n",
       " 89,\n",
       " 88,\n",
       " 87,\n",
       " 86,\n",
       " 85,\n",
       " 84,\n",
       " 83,\n",
       " 82,\n",
       " 81,\n",
       " 80,\n",
       " 79,\n",
       " 78,\n",
       " 77,\n",
       " 76,\n",
       " 75,\n",
       " 74,\n",
       " 73,\n",
       " 72,\n",
       " 71,\n",
       " 70,\n",
       " 69,\n",
       " 68,\n",
       " 67,\n",
       " 66,\n",
       " 65,\n",
       " 64,\n",
       " 63,\n",
       " 62,\n",
       " 61,\n",
       " 60,\n",
       " 59,\n",
       " 58,\n",
       " 57,\n",
       " 56,\n",
       " 55,\n",
       " 54,\n",
       " 53,\n",
       " 52,\n",
       " 51,\n",
       " 50,\n",
       " 49,\n",
       " 48,\n",
       " 47,\n",
       " 46,\n",
       " 45,\n",
       " 44,\n",
       " 43,\n",
       " 42,\n",
       " 41,\n",
       " 40,\n",
       " 39,\n",
       " 38,\n",
       " 37,\n",
       " 36,\n",
       " 35,\n",
       " 34,\n",
       " 33,\n",
       " 32,\n",
       " 31,\n",
       " 30,\n",
       " 29,\n",
       " 28,\n",
       " 27,\n",
       " 26,\n",
       " 25,\n",
       " 24,\n",
       " 23,\n",
       " 22,\n",
       " 21,\n",
       " 20,\n",
       " 19,\n",
       " 18,\n",
       " 17,\n",
       " 16,\n",
       " 15,\n",
       " 14,\n",
       " 13,\n",
       " 12,\n",
       " 11,\n",
       " 10,\n",
       " 9,\n",
       " 8,\n",
       " 7,\n",
       " 6,\n",
       " 5,\n",
       " 4,\n",
       " 3,\n",
       " 2,\n",
       " 1]"
      ]
     },
     "execution_count": 27,
     "metadata": {},
     "output_type": "execute_result"
    }
   ],
   "source": [
    "#the most effective way using range generator with negative indexing or negative step size\n",
    "list(range(100,0,-1))\n",
    "#using for loop\n",
    "for i in range(100,0,-1):\n",
    "    print(i)\n",
    "# using while loop\n",
    "a=100\n",
    "b=0\n",
    "while a>b:\n",
    "    print(a)\n",
    "    a-=1\n",
    "#using list comprehension\n",
    "[i for i in range(100,0,-1)]"
   ]
  },
  {
   "cell_type": "raw",
   "id": "c68c079b",
   "metadata": {},
   "source": [
    "Q4. What is the most effective way to initialise a list of 99 integers that repeats the sequence 1, 2, 3? S If necessary, show step-by-step instructions on how to accomplish this."
   ]
  },
  {
   "cell_type": "code",
   "execution_count": 19,
   "id": "6a43bb0a",
   "metadata": {},
   "outputs": [],
   "source": [
    "#for i in range(1,100,):\n",
    "    #print(i,end=',')\n",
    "#the most effective way is by using list comprehension and map functions\n",
    "#[i for i in range(1,100)]\n",
    "#result=list(map(lambda x: print(x),range(1,100)))"
   ]
  },
  {
   "cell_type": "raw",
   "id": "4ba7ffef",
   "metadata": {},
   "source": [
    "Q5. If you're using IDLE to run a Python application, explain how to print a multidimensional list as efficiently?"
   ]
  },
  {
   "cell_type": "raw",
   "id": "5e9ecb12",
   "metadata": {},
   "source": [
    "IDLE means IntegratedDevelopment and Learning Environment \n",
    "If we have multi dimensional array then we can print by using \n",
    "1.for loop\n",
    "2.using normal print statement\n",
    "3.using square brakets\n"
   ]
  },
  {
   "cell_type": "code",
   "execution_count": 29,
   "id": "af0d6038",
   "metadata": {},
   "outputs": [
    {
     "name": "stdout",
     "output_type": "stream",
     "text": [
      "[[1, 2, 3, 4], [5, 6, 7, 8], [9, 5, 1, 7]]\n",
      "[1, 2, 3, 4]\n",
      "[5, 6, 7, 8]\n",
      "[9, 5, 1, 7]\n",
      "1,2,3,4,\n",
      "5,6,7,8,\n",
      "9,5,1,7,\n"
     ]
    }
   ],
   "source": [
    "a=[[1,2,3,4],[5,6,7,8],[9,5,1,7]]\n",
    "print(a)\n",
    "#a=[[1,2,3,4],[5,6,7,8],[9,5,1,7]]\n",
    "for i in a:\n",
    "    print(i)\n",
    "#using square brakets\n",
    "a=[[1,2,3,4],[5,6,7,8],[9,5,1,7]]\n",
    "for i in range(len(a)):\n",
    "    for j in range(len(a[i])):\n",
    "        print(a[i][j],end=',')\n",
    "    print()"
   ]
  },
  {
   "cell_type": "raw",
   "id": "b9c99a96",
   "metadata": {},
   "source": [
    "Q6. Is it possible to use list comprehension with a string? If so, how can you go about doing it?"
   ]
  },
  {
   "cell_type": "raw",
   "id": "b03b5e1e",
   "metadata": {},
   "source": [
    "The list comprehension syntax is given as \n",
    "     [expression for element in iterable if condition]\n",
    "   as per above syntax, the list comprehension an expression and one or more for loops and one or more if condtions\n",
    "   \n",
    "   We can do list comrehension with strings also\n",
    "   "
   ]
  },
  {
   "cell_type": "code",
   "execution_count": 26,
   "id": "9560f244",
   "metadata": {},
   "outputs": [
    {
     "name": "stdout",
     "output_type": "stream",
     "text": [
      "['first', 'third', 'fourth']\n"
     ]
    }
   ],
   "source": [
    "lst=[\"first\",'second','third','fourth']\n",
    "result=[s for s in lst if 'r' in s]\n",
    "print(result)"
   ]
  },
  {
   "cell_type": "raw",
   "id": "e62ee945",
   "metadata": {},
   "source": [
    "Q7. From the command line, how do you get support with a user-written Python programme? Is this possible from inside IDLE?"
   ]
  },
  {
   "cell_type": "raw",
   "id": "2dffda7c",
   "metadata": {},
   "source": [
    "A command line interface(CLI) provides a way for user to interact with a programming in a text based shell interpreter.\n",
    "Some exaples of shell interpreters are Bash on Linux and command prompt on windows \n",
    "A command line interface is enabled by the shell interpreter that exposes a command prompt.\n",
    "It is possible inside IDLE also  \n",
    "1open command line or terminal and then type python or python3\n",
    "2.you will see >>> symbols then you are in , write and execute the program \n",
    "The only draw back is when you close the session the coded will be gone.\n",
    "There is another way is writing program in plain text file and saving as python files by using extend and giving file name in shell or command prompt."
   ]
  },
  {
   "cell_type": "raw",
   "id": "c8f690b8",
   "metadata": {},
   "source": [
    "Q8. Functions are said to be “first-class objects” in Python but not in most other languages, such as C++ or Java. What can you do in Python with a function (callable object) that you can't do in C or C++?"
   ]
  },
  {
   "cell_type": "raw",
   "id": "2ba42880",
   "metadata": {},
   "source": [
    "In python functions are first class objects , which means that functions can be used or passed as arguments\n",
    "1.A function is an instance of the object type.\n",
    "2.It is possible to store the function in a variable.\n",
    "3.it is possible to pass a function as parameter to the function.\n",
    "4.function can return the function from a function.\n",
    "5.we can store them in a data structures such as hashtables.\n",
    "\n",
    "Because of these functionalities functions are called as first class objects in python"
   ]
  },
  {
   "cell_type": "code",
   "execution_count": null,
   "id": "6b08d8ec",
   "metadata": {},
   "outputs": [],
   "source": []
  },
  {
   "cell_type": "raw",
   "id": "dd9961fe",
   "metadata": {},
   "source": [
    "Q9. How do you distinguish between a wrapper, a wrapped feature, and a decorator"
   ]
  },
  {
   "cell_type": "raw",
   "id": "9a1d0419",
   "metadata": {},
   "source": [
    "Wrappers are the functionality available in python to wrap a function with another function to extend its behaviour\n",
    "Wrappers around the functions are also known as decoraters, Which are very powerful and useful tool.It allows programers to modify the behaviour of function or class\n",
    "Decorators allows us to wrap another function in order to extend the behaviour of wrapped function,without permanently modifying.\n",
    "Functions are taken as the argument into another function then called inside the wrapped function"
   ]
  },
  {
   "cell_type": "raw",
   "id": "317a5ce4",
   "metadata": {},
   "source": [
    "Q10. If a function is a generator function, what does it return?"
   ]
  },
  {
   "cell_type": "raw",
   "id": "f74f34fc",
   "metadata": {},
   "source": [
    "If a function is agenerator function it also returns the same result , but the difference is a function return result after all task is completed. \n",
    "But in generator after completion of one task , it will return the output unlike untill whole task need to complete."
   ]
  },
  {
   "cell_type": "raw",
   "id": "e8bba41a",
   "metadata": {},
   "source": [
    "Q11. What is the one improvement that must be made to a function in order for it to become a generator function in the Python language?"
   ]
  },
  {
   "cell_type": "raw",
   "id": "ddb16693",
   "metadata": {},
   "source": [
    "A function uses the return statement to return the value to the function , when we have large numberof calculations , it will wait untill to complete all task and return the value.\n",
    "There is a 'yield' statement is used to made to a function inorder to become a generator function"
   ]
  },
  {
   "cell_type": "raw",
   "id": "64021798",
   "metadata": {},
   "source": [
    "Q12. Identify at least one benefit of generators"
   ]
  },
  {
   "cell_type": "raw",
   "id": "4caf253e",
   "metadata": {},
   "source": [
    "A function uses the return statement to return the value to the function , when we have large numberof calculations , it will wait untill to complete all task and return the value.\n",
    "But in generator after completion of one task , it will return the output unlike untill whole task need to complete. there is chance to reduce length of code."
   ]
  }
 ],
 "metadata": {
  "kernelspec": {
   "display_name": "Python 3 (ipykernel)",
   "language": "python",
   "name": "python3"
  },
  "language_info": {
   "codemirror_mode": {
    "name": "ipython",
    "version": 3
   },
   "file_extension": ".py",
   "mimetype": "text/x-python",
   "name": "python",
   "nbconvert_exporter": "python",
   "pygments_lexer": "ipython3",
   "version": "3.9.7"
  }
 },
 "nbformat": 4,
 "nbformat_minor": 5
}
