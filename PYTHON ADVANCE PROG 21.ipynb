{
 "cells": [
  {
   "cell_type": "raw",
   "id": "b38b4ae2",
   "metadata": {},
   "source": [
    "Q1. What is a probability distribution, exactly? If the values are meant to be random, how can you predict them at all?"
   ]
  },
  {
   "cell_type": "raw",
   "id": "39db884a",
   "metadata": {},
   "source": [
    "Probability  is nothing but a measure of likelyhood of occurence of events in an experiment.\n",
    "In probability theory and statistics, a probability distribution is the mathemtical function that gives thye probability occurance of different possible outcomes for an experiment.\n",
    "It is a mathematical description of a random phenomenon in terms of its sample space and probability of events.\n",
    "    it can be written as  F(x)=p(X<+x).\n",
    " Each probability p(x) must be between 0 and 1. The sum of all probabilites is P(x)=1.\n",
    " \n",
    "The rules for discrete random probability distribution.\n",
    "1.F(x) must be non negative for each value of the random variable.\n",
    "2.The sum of probabilites for each value of the random variable must be equal to one."
   ]
  },
  {
   "cell_type": "raw",
   "id": "11ad2dae",
   "metadata": {},
   "source": [
    "Q2. Is there a distinction between true random numbers and pseudo-random numbers, if there is one? Why are the latter considered “good enough”?"
   ]
  },
  {
   "cell_type": "raw",
   "id": "12bd06f3",
   "metadata": {},
   "source": [
    "A true random numbers one that is extracted from a truly random proces ,like noise dice.A true random number is product of possible values would have to deliberately selected by some one .\n",
    "A pseudo random number , also known as deterministic random bit, is an algorithm for generating a sequence of number whose properties approximate the properties of sequence random numbers.\n",
    "\n",
    "The main advantage psudo random variables are rapidity and repetabilty of the pseudo random sequence and require less memory for algorithm storage. \n",
    "true random numbers or derived based on the physical phenomenon called entropy ,source like\n",
    "we can generate or predict pseudo random numbers and true random numbers are not predictable."
   ]
  },
  {
   "cell_type": "raw",
   "id": "6c7ffd26",
   "metadata": {},
   "source": [
    "# Q3. What are the two main factors that influence the behaviour of a \"normal\" probability distribution?"
   ]
  },
  {
   "cell_type": "raw",
   "id": "1b72a2cb",
   "metadata": {},
   "source": [
    "Normal distribution is also known as guassian distribution is a probability distribution that is symmetric about the mean,showing data near to the mean are more frequent occurance , that data from the mean are less frequent .\n",
    "In graphical form of the normal distribution appears like a bell shape curve .\n",
    "normal distribution has two parameters the MEAN and STANDARD DEVIATION.\n",
    "MEAN represent the peak or heighest point of the distribution.the distribution falls around the mean.\n",
    "The width of which is defined as the STANDARD DEVIATION "
   ]
  },
  {
   "cell_type": "raw",
   "id": "2d582e4f",
   "metadata": {},
   "source": [
    "Q4. Provide a real-life example of a normal distribution."
   ]
  },
  {
   "cell_type": "raw",
   "id": "48009b05",
   "metadata": {},
   "source": [
    "some of the real life examples of normal distribution.\n",
    "height of the population:  height of the popualtion data follos a normal distribution.\n",
    "tossing a coin, rolling a diece, technical stock market, income distribution economy"
   ]
  },
  {
   "cell_type": "raw",
   "id": "c8419184",
   "metadata": {},
   "source": [
    "Q5. In the short term, how can you expect a probability distribution to behave? What do you think will happen as the number of trials grows?"
   ]
  },
  {
   "cell_type": "raw",
   "id": "8f07086a",
   "metadata": {},
   "source": [
    "Since the fractional width decreases with increasing   number of trails, the number of outcomes for which there is an appreciable probability becomes smaller and samller fraction of all possible outcomes as the number of trails increases."
   ]
  },
  {
   "cell_type": "raw",
   "id": "c1781272",
   "metadata": {},
   "source": [
    "Q6. What kind of object can be shuffled by using random.shuffle?"
   ]
  },
  {
   "cell_type": "raw",
   "id": "bb160fdd",
   "metadata": {},
   "source": [
    "random.suffle(x,random) , it means suffles a sequence 'X' using a random function.\n",
    "The suffled method takes a sequence like a LIST,STRING AND TUPLE objects .\n",
    "random.suffle and random.sample both work on above objects."
   ]
  },
  {
   "cell_type": "raw",
   "id": "d82404a8",
   "metadata": {},
   "source": [
    "Q7. Describe the math package's general categories of functions."
   ]
  },
  {
   "cell_type": "raw",
   "id": "654ae87e",
   "metadata": {},
   "source": [
    "The function p=f(q) is a categorized into basic types of functions based on factors like the domain and range and expression.\n",
    "BASED ON ELEMENTS: one to one function,many function,onto function,one-one and onto function, into function and constant function.\n",
    "BASED ON EQUATION: identity function,linear function,qutradic function, cubic function and polynomial function.\n",
    "BASED ON RANGE: modulus function, Rationall function,signum function,even and add function,inverse function,composite function ,samllest function, greatest function.\n",
    "BASED ON DOMAIN: algebraic function, frignometric function, logarthmic function and exponential function."
   ]
  },
  {
   "cell_type": "raw",
   "id": "8db9ccee",
   "metadata": {},
   "source": [
    "Q8. What is the relationship between exponentiation and logarithms?"
   ]
  },
  {
   "cell_type": "raw",
   "id": "f6547e2e",
   "metadata": {},
   "source": [
    "Logarthmic functions are the inverse of exponential function.\n",
    "The logarthmic function y = loga x is equivalent to the exponential x=a^y\n",
    "The exponential function f(x)=e^x   , is the inverse of the logarthmic function f(x) =ln(x)"
   ]
  },
  {
   "cell_type": "raw",
   "id": "283213ae",
   "metadata": {},
   "source": [
    "Q9. What are the three logarithmic functions that Python supports?"
   ]
  },
  {
   "cell_type": "raw",
   "id": "cd407ae8",
   "metadata": {},
   "source": [
    "The following are the variations of the basic log function in python.\n",
    "log2 (x), log(x, base), log10 x.\n",
    "common alogorithms where the base is 10.  log10 (x)\n",
    "binary logariyhms where the base is 2 ,  log2 (x)\n",
    "natural logarithms where the base is  e.  log(x, base)   e=2.71828"
   ]
  }
 ],
 "metadata": {
  "kernelspec": {
   "display_name": "Python 3 (ipykernel)",
   "language": "python",
   "name": "python3"
  },
  "language_info": {
   "codemirror_mode": {
    "name": "ipython",
    "version": 3
   },
   "file_extension": ".py",
   "mimetype": "text/x-python",
   "name": "python",
   "nbconvert_exporter": "python",
   "pygments_lexer": "ipython3",
   "version": "3.9.7"
  }
 },
 "nbformat": 4,
 "nbformat_minor": 5
}
