{
 "cells": [
  {
   "cell_type": "raw",
   "id": "f329952a",
   "metadata": {},
   "source": [
    "Q1. Describe the differences between text and binary files in a single paragraph."
   ]
  },
  {
   "cell_type": "raw",
   "id": "429a3a55",
   "metadata": {},
   "source": [
    "Binary files are store data in a binary format and text files store data in alphabet, numerics format.\n",
    "A text file is one which data is stored in the form of ASCII characters is normal used for storing a stream of characters, text files are organized around lies which ends with a new line character('\\n').\n",
    "A binary file is the one which data isstored in the file in the same way as it is stored in the main memory for processing . It is stored in binary format instead of ASCII characters.\n",
    "Text files can be transformed from one computer to another computer.It stors data using ASCII characters so human readable graphic character. Thes files are easily readable and modifible because of content written  in text files is human readable\n",
    "Text files creates probability problems. \n",
    "content written in binary files is not human readable and looks like encrypted. Binary files are easily portable.\n",
    "\n",
    "Text files save the data by converting each digit in data into ASCII format which will take up much of the spaces as compared to required one.\n",
    "Binary saves the memory because the data of any type will get stored in memory as per its memory size\n",
    "\n",
    "Any files by default text file, binary mode has to be used with binary files while opening them.\n",
    "\n",
    "Error file text file can be easily recognized and eliminated. Error in binary file  corrupts the file and is not easily detected."
   ]
  },
  {
   "cell_type": "raw",
   "id": "22cedf1f",
   "metadata": {},
   "source": [
    "Q2. What are some scenarios where using text files will be the better option? When would you like to use binary files instead of text files?"
   ]
  },
  {
   "cell_type": "raw",
   "id": "09f4b030",
   "metadata": {},
   "source": [
    "ADVANTAGES OF TEXT FILES:\n",
    "Text files can be transformed from one computer to another computer.It stores data using ASCII characters so human readable graphic character. Thes files are easily readable and modifible because of content written  in text files is human readable\n",
    "Text files creates probability problems.\n",
    "Error file text file can be easily recognized and eliminated. \n",
    "when we need files for readable and modifible we use text files\n",
    "\n",
    "BINARY FILES ADVANTAGES: \n",
    "Binary files are easily portable, Binary files saves the memory because of the data of any type will get stored in memory as per its memory size. \n",
    "when we dont want to store data in readable format and save the memory like audio and video files we canuse binary files."
   ]
  },
  {
   "cell_type": "raw",
   "id": "c24c003b",
   "metadata": {},
   "source": [
    "Q3. What are some of the issues with using binary operations to read and write a Python integer directly to disc?"
   ]
  },
  {
   "cell_type": "raw",
   "id": "f2969d7d",
   "metadata": {},
   "source": [
    "In a text file , a new line character is first converted to a carriage and return line feed combination and then written into disk vice versa happens when a line is read from the text file.\n",
    "In binary file no such conversion from a new line to carriage return line feed combination is done .\n",
    " In a text file , a special character with ASCII code is inserted at the end of file . The character signals the EOF to the program when encountered . There is no such special character in binary file to signal."
   ]
  },
  {
   "cell_type": "raw",
   "id": "cb3f271b",
   "metadata": {},
   "source": [
    "Q4. Describe a benefit of using the with keyword instead of explicitly opening a file."
   ]
  },
  {
   "cell_type": "raw",
   "id": "09d41fd5",
   "metadata": {},
   "source": [
    "WITH  statement in python is used in exception handling to make the code cleaner and much readable.It simplifies the management resources like file streams shown below.\n"
   ]
  },
  {
   "cell_type": "code",
   "execution_count": 3,
   "id": "9156a87c",
   "metadata": {},
   "outputs": [],
   "source": [
    "f=open(\"first.txt\",'w')\n",
    "f.write('this is first one')\n",
    "f.close()"
   ]
  },
  {
   "cell_type": "code",
   "execution_count": 4,
   "id": "2a6d00a7",
   "metadata": {},
   "outputs": [],
   "source": [
    "with open('second.txt','w') as f1:\n",
    "    f1.write('this is second one')"
   ]
  },
  {
   "cell_type": "raw",
   "id": "0b34a141",
   "metadata": {},
   "source": [
    "Notice that unlike the first implementation there is no need to call file.close() when using WITH statement.\n",
    "The with statement itself, ensurs proper acquistion and release of resource.\n",
    "It takes care of all the exceptions but using with statment makes the code compact and much more readable."
   ]
  },
  {
   "cell_type": "raw",
   "id": "e7d08720",
   "metadata": {},
   "source": [
    "Q5. Does Python have the trailing newline while reading a line of text? Does Python append a newline when you write a line of text?"
   ]
  },
  {
   "cell_type": "raw",
   "id": "4f301e19",
   "metadata": {},
   "source": [
    "A trailing new line is a '\\n' character at the end of a line like that in python strings.\n",
    "python have the trailing a new line while reading a new line of a text python have trailing new line '\\n'\n",
    " the new line character in python is \\n .\n",
    " \n",
    " \n",
    " Yes we can append a new line to existing file using 'a' or 'a+'  mode of operations while opening a file for writing.  "
   ]
  },
  {
   "cell_type": "raw",
   "id": "4b0208ec",
   "metadata": {},
   "source": [
    "Q6. What file operations enable for random-access operation?"
   ]
  },
  {
   "cell_type": "raw",
   "id": "42d857df",
   "metadata": {},
   "source": [
    "when we are open a file for read mode and again calling that file for read mode that file , it returns empty string. Because of when we are using a file to read operation the cursor or pointer are placed at en of file . \n",
    "\n",
    "we can access the data in a file using f.seek()  function to perform i/o operations on a file.\n",
    "using file.seek() we can place pointer in our needed point."
   ]
  },
  {
   "cell_type": "raw",
   "id": "03f067ab",
   "metadata": {},
   "source": [
    "Q7. When do you think you'll use the struct package the most?"
   ]
  },
  {
   "cell_type": "raw",
   "id": "3c619f0b",
   "metadata": {},
   "source": [
    "The struct module in python is used to convert native python datatypes such as strings and numbers into a string of bytes and vice versa.\n",
    "What this means is that user can parse binary files of data stored in c structures in python.\n",
    "It is used mostly for handling binary data stored in files or from network connection among other resources. this module is only available in 3.x"
   ]
  },
  {
   "cell_type": "raw",
   "id": "7fe7945b",
   "metadata": {},
   "source": [
    "Q8. When is pickling the best option?"
   ]
  },
  {
   "cell_type": "raw",
   "id": "880dd369",
   "metadata": {},
   "source": [
    "Python pickle module is used for serializing ans deserializing a python object structure.\n",
    "Any object in python can be pickled so that it can be saved on disk, what pickle does is that it serializes the object first before writing it into file.\n",
    "Pickling is way to convert a python object into a character stream , the character stream is contains all the information neccessary to reconstruct the object in another python script.\n",
    "The pickle byte stream can be used to recreate the original object hirarchy by unpickling the stream"
   ]
  },
  {
   "cell_type": "raw",
   "id": "a8a5302d",
   "metadata": {},
   "source": [
    "Q9. When will it be best to use the shelve package?"
   ]
  },
  {
   "cell_type": "raw",
   "id": "a913af38",
   "metadata": {},
   "source": [
    "The shelve module in python standard library is a simple yet effective tool for persistent data store when using a relation database solution is not required.\n",
    "The shelve module creates a persistent file based version of an object very similar to a python dictionary, but the data is only read from written to the file when necessary.\n",
    "when creating a pickle object the entire object must be in memory, similarly when unpickling an object , you must read entire object into memory,  when you are dealing with very large amount of data the shelve module will provide a better alternate\n",
    "It should be noted that interfacing to a relational database may more useful solutions in some cases. there are a number of pytrhon modules to access many different databases , but shelve module is better and effective one,"
   ]
  },
  {
   "cell_type": "raw",
   "id": "a0c2e8ed",
   "metadata": {},
   "source": [
    "Q10. What is a special restriction when using the shelve package, as opposed to using other data dictionaries?"
   ]
  },
  {
   "cell_type": "raw",
   "id": "04bb0f5d",
   "metadata": {},
   "source": [
    "One limittation of shelve object is that the keys to store the objects must be string.\n",
    "but the values stored in a shelve object can be any python object.\n",
    "The shelve dictionary has a certain restrictions , only string data type can used as in this special dictionary object, where as any picable python object can be used as value."
   ]
  },
  {
   "cell_type": "code",
   "execution_count": null,
   "id": "7bbd1637",
   "metadata": {},
   "outputs": [],
   "source": []
  }
 ],
 "metadata": {
  "kernelspec": {
   "display_name": "Python 3 (ipykernel)",
   "language": "python",
   "name": "python3"
  },
  "language_info": {
   "codemirror_mode": {
    "name": "ipython",
    "version": 3
   },
   "file_extension": ".py",
   "mimetype": "text/x-python",
   "name": "python",
   "nbconvert_exporter": "python",
   "pygments_lexer": "ipython3",
   "version": "3.9.7"
  }
 },
 "nbformat": 4,
 "nbformat_minor": 5
}
