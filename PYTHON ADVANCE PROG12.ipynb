{
 "cells": [
  {
   "cell_type": "raw",
   "id": "d588772e",
   "metadata": {},
   "source": [
    "Q1. Does assigning a value to a string's indexed character violate Python's string immutability?"
   ]
  },
  {
   "cell_type": "raw",
   "id": "e0a8b913",
   "metadata": {},
   "source": [
    "No, it is not possible item reassiging to a string indexed character in python. Strings are immutable objects , We can retrive a substring or elment using string index , we cannot modify or re assigning operations are not possible in string objects."
   ]
  },
  {
   "cell_type": "raw",
   "id": "7c73ddb7",
   "metadata": {},
   "source": [
    "Q2. Does using the += operator to concatenate strings violate Python's string immutability? Why or why not?"
   ]
  },
  {
   "cell_type": "raw",
   "id": "bead9b09",
   "metadata": {},
   "source": [
    "strings are immutable objects, therfore when ever concatinating two string then we need to assign to a new variable.\n",
    "i.e if we performing conactenation then we need to assign a new variable.\n",
    "Using the '+=' operator to concatenate strings, Then the immutability of the string will violate .\n",
    "it is occur or done because , here we are performing adding opration and  the result value is assigning or storing that value into a variable."
   ]
  },
  {
   "cell_type": "raw",
   "id": "d764edaa",
   "metadata": {},
   "source": [
    "Q3. In Python, how many different ways are there to index a character?"
   ]
  },
  {
   "cell_type": "raw",
   "id": "0f0cf71b",
   "metadata": {},
   "source": [
    "There is a inbuilt method in python to find out the index of a character in python.\n",
    "string.index(substring,begp,endp)\n",
    "this method allows a user to find the index of the first occurance of an existing substring inside a given string.\n"
   ]
  },
  {
   "cell_type": "raw",
   "id": "7c13306e",
   "metadata": {},
   "source": [
    "Q4. What is the relationship between indexing and slicing?"
   ]
  },
  {
   "cell_type": "raw",
   "id": "56f6eaa7",
   "metadata": {},
   "source": [
    "Indexing and slicing both are used to retrive elemnts from the an iterable object . but the only difference is indexing will retrive only one element at a time by its position , using slicing we can retive a range of elements."
   ]
  },
  {
   "cell_type": "raw",
   "id": "7536b029",
   "metadata": {},
   "source": [
    "Q5. What is an indexed character's exact data type? What is the data form of a slicing-generated substring?"
   ]
  },
  {
   "cell_type": "raw",
   "id": "316811fc",
   "metadata": {},
   "source": [
    "The data type of the indexed characters  are also be exact data type , in this case it is a string data type.in strings we have combination of multipe  character that is string data types\n",
    "the data from a slicing generated string also a string data from  here we re retriving some information from total information"
   ]
  },
  {
   "cell_type": "raw",
   "id": "d7223547",
   "metadata": {},
   "source": [
    "Q6. What is the relationship between string and character \"types\" in Python?"
   ]
  },
  {
   "cell_type": "raw",
   "id": "4c01f043",
   "metadata": {},
   "source": [
    "In python we dont have character data type , we have only string data type.if we have only one character in python we can say as string with length of 1 .string is nothing but some of characters , if we have only one character then we can say as string with length of 1."
   ]
  },
  {
   "cell_type": "raw",
   "id": "0b7a85f8",
   "metadata": {},
   "source": [
    "Q7. Identify at least two operators and one method that allow you to combine one or more smaller strings to create a larger string."
   ]
  },
  {
   "cell_type": "raw",
   "id": "453d4342",
   "metadata": {},
   "source": [
    "we can use \"+\",\"%\" these two operators are used for combine one or more smaller strings.\n",
    "s.join(object) or ' '.join(object) method is used for combing strings.\n"
   ]
  },
  {
   "cell_type": "raw",
   "id": "096faeba",
   "metadata": {},
   "source": [
    "Q8. What is the benefit of first checking the target string with in or not in before using the index method to find a substring?"
   ]
  },
  {
   "cell_type": "raw",
   "id": "df2a5fa6",
   "metadata": {},
   "source": [
    "Using in or not in operator it will take care of return  value , only these one statement will check for condition and return the result.\n",
    "in index method  we need to write n number of checking operations for target string, it will time consume ."
   ]
  },
  {
   "cell_type": "raw",
   "id": "8fc702a4",
   "metadata": {},
   "source": [
    "Q9. Which operators and built-in string methods produce simple Boolean (true/false) results?"
   ]
  },
  {
   "cell_type": "raw",
   "id": "db509f86",
   "metadata": {},
   "source": [
    "In strings we fave many methods to produce boolean results some of them are isalnum(),isdigit(),isupper(),islower(),iscapitalize(),istitle(), \n",
    "the built in fuctions having is word will return boolean results\n",
    "\n",
    "IN, NOTIN operators are also returns boolean results."
   ]
  },
  {
   "cell_type": "code",
   "execution_count": null,
   "id": "d490b022",
   "metadata": {},
   "outputs": [],
   "source": []
  }
 ],
 "metadata": {
  "kernelspec": {
   "display_name": "Python 3 (ipykernel)",
   "language": "python",
   "name": "python3"
  },
  "language_info": {
   "codemirror_mode": {
    "name": "ipython",
    "version": 3
   },
   "file_extension": ".py",
   "mimetype": "text/x-python",
   "name": "python",
   "nbconvert_exporter": "python",
   "pygments_lexer": "ipython3",
   "version": "3.9.7"
  }
 },
 "nbformat": 4,
 "nbformat_minor": 5
}
