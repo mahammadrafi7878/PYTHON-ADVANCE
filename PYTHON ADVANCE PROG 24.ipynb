{
 "cells": [
  {
   "cell_type": "raw",
   "id": "622e1097",
   "metadata": {},
   "source": [
    "Q1. Is it permissible to use several import statements to import the same module? What would the goal be? Can you think of a situation where it would be beneficial?"
   ]
  },
  {
   "cell_type": "raw",
   "id": "ede25f7f",
   "metadata": {},
   "source": [
    "It is permissable to import a module several times.\n",
    "But the module is only loaded in the first time import statement is executed , and there is no performance loss by importing again.\n",
    "If intentionally you want to it to be loaded or pared again , tool have to relaod() method."
   ]
  },
  {
   "cell_type": "raw",
   "id": "cc63c4d0",
   "metadata": {},
   "source": [
    "Q2. What are some of a module's characteristics? (Name at least one.)"
   ]
  },
  {
   "cell_type": "raw",
   "id": "56745b76",
   "metadata": {},
   "source": [
    "1.Modues contain instruction, processing logic and data modules can be seperately compilrd and stored in library.\n",
    "2.modules can be included in a program.\n",
    "3.module segments can be used by importing a name and some parameters.\n",
    "4.module segments can be used by other modules.\n",
    "5.modular programming allows many programmers to allow collabration on the same application."
   ]
  },
  {
   "cell_type": "raw",
   "id": "cf053c33",
   "metadata": {},
   "source": [
    "Q3. Circular importing, such as when two modules import each other, can lead to dependencies and bugs that aren't visible. How can you go about creating a program that avoids mutual importing?"
   ]
  },
  {
   "cell_type": "raw",
   "id": "601d4a24",
   "metadata": {},
   "source": [
    "python circular import is a type of circular dependent.\n",
    "It occurs in python when two or more modules import each other and it is repeats the importing connection into an infinite cicular, with circular call python import give error.\n",
    "There are many way by which circular imports can be avoided.\n",
    "1.change name of working python file\n",
    "2.import the module\n",
    "3.Avoid circular import\n",
    "4.merge modules\n",
    "5.import when needed."
   ]
  },
  {
   "cell_type": "raw",
   "id": "08d406f4",
   "metadata": {},
   "source": [
    "Q4. Why is  _ _all_ _ in Python?"
   ]
  },
  {
   "cell_type": "raw",
   "id": "2c3c5249",
   "metadata": {},
   "source": [
    "In the __init_-.py file of package __all__ is a list of strings with the names of public modules or other objects .These features are variable to avoid wild card imports \n",
    "All with moduls __all__ customizes the * when wild card importing from the package.\n"
   ]
  },
  {
   "cell_type": "raw",
   "id": "47c9bd10",
   "metadata": {},
   "source": [
    "# Q5. In what situation is it useful to refer to the _ _name_ _ attribute or the string '_ _main_ _'?"
   ]
  },
  {
   "cell_type": "raw",
   "id": "fbc1cd47",
   "metadata": {},
   "source": [
    "Before executing code , python interpreter reads source file and define few special variables or global variables. \n",
    "If the python interpreter is running that module as the main program , it sets the special __name__ variable to have a value\n",
    "__main__ , if this file being imported from another module, --name_- will be see the module name. modules name is available as value to __name__ global variable.\n",
    "A module is file containing python definations and statements the file name is a module name and with the suffix  .py append.\n",
    "Every python module has its  __name__ defined and if this __main__ , it implies that the module is being non stand alone by the user and we can do corresponding appropriate actions"
   ]
  },
  {
   "cell_type": "raw",
   "id": "5265f344",
   "metadata": {},
   "source": [
    "Q6. What are some of the benefits of attaching a program counter to the RPN interpreter application, which interprets an RPN script line by line?"
   ]
  },
  {
   "cell_type": "raw",
   "id": "ac7c3669",
   "metadata": {},
   "source": [
    "RPN stands for REVERSE POLISH NOTATION  is method for can verifying mathematical expressions with out the use of seperators such as brackets and paranthesis.\n",
    "The operation is read from left to right but execution is done every time an operator is reached and using the last two numbers as operands.\n",
    "RPN to lead to fastercalculations forcouple of reasons , one there is less information to use "
   ]
  },
  {
   "cell_type": "raw",
   "id": "ccb9df82",
   "metadata": {},
   "source": [
    "Q7. What are the minimum expressions or statements (or both) that you'd need to render a basic programming language like RPN primitive but complete— that is, capable of carrying out any computerised task theoretically possible?"
   ]
  },
  {
   "cell_type": "raw",
   "id": "fcb21abf",
   "metadata": {},
   "source": [
    "To perform basic programming languages like RpN we nee some operators like +,*,-,/,  and  we dont need any brackets or paraenthesis .\n",
    "yes we can perform these operations theriotically but it is complicated one some examples \n",
    "         in normal  we write   2+4    , but in RPN we can write as   2 4 +\n",
    "         in normal  we write    2*4+8   , but in RPN   we can write as  2  4  *  8 +\n",
    "         in normal  we write  2*(4+8)  , but in RPN   we can write as    2  4  8  + *"
   ]
  }
 ],
 "metadata": {
  "kernelspec": {
   "display_name": "Python 3 (ipykernel)",
   "language": "python",
   "name": "python3"
  },
  "language_info": {
   "codemirror_mode": {
    "name": "ipython",
    "version": 3
   },
   "file_extension": ".py",
   "mimetype": "text/x-python",
   "name": "python",
   "nbconvert_exporter": "python",
   "pygments_lexer": "ipython3",
   "version": "3.9.7"
  }
 },
 "nbformat": 4,
 "nbformat_minor": 5
}
