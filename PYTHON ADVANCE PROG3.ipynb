{
 "cells": [
  {
   "cell_type": "raw",
   "id": "ad8c891f",
   "metadata": {},
   "source": [
    "1. What is the concept of an abstract superclass?"
   ]
  },
  {
   "cell_type": "raw",
   "id": "199f70b2",
   "metadata": {},
   "source": [
    "An abstract superclass is one way to provide reusable code.you can extend the abstract class and inherit the code.\n",
    "A class is called abstract class if it contains one or more abstract methods.\n",
    "An abstract method is a method declared but contains no implementation ,abstract classes may not be instantiated, abstract methods be implemented by its sub ckasses.\n",
    "In another we can define abstract class can be considered as a blue print for other classes.\n",
    "Python provides the base for defining Abstract Base Classes (ABC) and the module name ABC\n",
    "\n",
    "By defining an abstract base or super classs we can define a common application program interface (API) for a set of sub classes.\n",
    " A method becomes Abstract when declared with a keyword \n",
    "        @abstractmethod\n",
    "        \n",
    "    example:\n",
    "    class shape(abc,ABC):\n",
    "        @abc.abstractmethod\n",
    "        def__init__(self):\n",
    "           pass"
   ]
  },
  {
   "cell_type": "code",
   "execution_count": 1,
   "id": "56bed6dd",
   "metadata": {},
   "outputs": [
    {
     "name": "stdout",
     "output_type": "stream",
     "text": [
      "i can walk and run\n",
      "i can crawl\n"
     ]
    }
   ],
   "source": [
    "# here we can see example of abstrct classes\n",
    "from abc import ABC,abstractmethod\n",
    "class Animal(ABC):\n",
    "    def move(self):\n",
    "        pass\n",
    "class Human(Animal):\n",
    "    def move(self):\n",
    "        print(\"i can walk and run\")\n",
    "class Snake(Animal):\n",
    "    def move(self):\n",
    "        print(\"i can crawl\")\n",
    "R=Human()\n",
    "R.move()\n",
    "K=Snake()\n",
    "K.move()\n",
    "    "
   ]
  },
  {
   "cell_type": "raw",
   "id": "211dedf3",
   "metadata": {},
   "source": [
    "2. What happens when a class statement's top level contains a basic assignment statement?"
   ]
  },
  {
   "cell_type": "raw",
   "id": "546c4a9b",
   "metadata": {},
   "source": [
    "we use python assignment statements to assign objects to a name.\n",
    "The target of an assignment statement is written on left side of equal(=), and the object on the right side.\n",
    "Assignments creates objects refrences insted of copying the objects.\n",
    " \n",
    "If the object is class instance and the attribute reference occur on both sides of assignment operator,\n",
    "The right side expression can access eiether an instance attribute or a class attribute\n",
    "The left side is always as instance attribute.\n",
    "Example:\n",
    "class Home:\n",
    "    my=\"note\"\n",
    "  here my is instance attribute and note is instance or class attribute"
   ]
  },
  {
   "cell_type": "raw",
   "id": "5bdb9f66",
   "metadata": {},
   "source": [
    "3. Why does a class need to manually call a superclass's __init__ method?"
   ]
  },
  {
   "cell_type": "raw",
   "id": "e1317a2c",
   "metadata": {},
   "source": [
    "The main reason for always calling base class __init__() is that,\n",
    "Base class may typically create member variable and initializes them to defaults,So if you dont call base class init , none of the code would be executed"
   ]
  },
  {
   "cell_type": "raw",
   "id": "abb7bacb",
   "metadata": {},
   "source": [
    "4. How can you augment, instead of completely replacing, an inherited method?"
   ]
  },
  {
   "cell_type": "raw",
   "id": "cc2bf48f",
   "metadata": {},
   "source": [
    "By using Extend method ,\n",
    "In python ,when a sub class(derived class) defines a function ,that already exists in base class(super class), in order to add some other functionality in its own way,\n",
    "The function in the sub class(derived class) is said to be an extended method and the mechanism is known as extending\n",
    "The goal of extending a class method in python can be achieved by inheritence also.\n",
    "To call super class version we need to give \"super()\" method.\n",
    "The main advantage ofextend method is that makes code reusable."
   ]
  },
  {
   "cell_type": "raw",
   "id": "a3f81ddf",
   "metadata": {},
   "source": [
    "5. How is the local scope of a class different from that of a function?"
   ]
  },
  {
   "cell_type": "raw",
   "id": "7be71ea5",
   "metadata": {},
   "source": [
    "Variables declared inside the function of class  are considered to be  the local scope, when a variable is declared inside a function and it is accessible within the class only.\n",
    "A function written inside the class is called as method, in methods local scopes are accessible with in the metod or function only"
   ]
  },
  {
   "cell_type": "code",
   "execution_count": null,
   "id": "4547119e",
   "metadata": {},
   "outputs": [],
   "source": []
  }
 ],
 "metadata": {
  "kernelspec": {
   "display_name": "Python 3 (ipykernel)",
   "language": "python",
   "name": "python3"
  },
  "language_info": {
   "codemirror_mode": {
    "name": "ipython",
    "version": 3
   },
   "file_extension": ".py",
   "mimetype": "text/x-python",
   "name": "python",
   "nbconvert_exporter": "python",
   "pygments_lexer": "ipython3",
   "version": "3.9.7"
  }
 },
 "nbformat": 4,
 "nbformat_minor": 5
}
