{
 "cells": [
  {
   "cell_type": "raw",
   "id": "022a7850",
   "metadata": {},
   "source": [
    "Q1. What is the purpose of Python's OOP?"
   ]
  },
  {
   "cell_type": "raw",
   "id": "0c4a68da",
   "metadata": {},
   "source": [
    "OOP's is programming model based on the concept of objects and classes.\n",
    "It turns data structure into an  object including both data and fuction.\n",
    "The main purpose of the OOP's resuing these objects in the same and other programs as well."
   ]
  },
  {
   "cell_type": "raw",
   "id": "9f92ede0",
   "metadata": {},
   "source": [
    "Q2. Where does an inheritance search look for an attribute?"
   ]
  },
  {
   "cell_type": "raw",
   "id": "42a58dda",
   "metadata": {},
   "source": [
    "Attributes of a calss are function objects.that defines corresponding methods of its instances.\n",
    "Inheritance is nothing but using one class atrributes in another class.\n",
    "a class have inherited is look for attributes from its base class or parent class."
   ]
  },
  {
   "cell_type": "raw",
   "id": "247407fa",
   "metadata": {},
   "source": [
    "Q3. How do you distinguish between a class object and an instance object?"
   ]
  },
  {
   "cell_type": "raw",
   "id": "5e717778",
   "metadata": {},
   "source": [
    "Class is nothing but classification of real world entity.class is nothing but like a blue print.\n",
    "The object is a real data or real information , that build on the base on the blue print of class.\n",
    "An instance is virtual copy of that object.The first argument init() is gets used to instance object.\n",
    "let's taking an example\n",
    "A blue print for a house acts as class description.\n",
    "All the houses built from the blue print is called as objects.  i.e class objects\n",
    "A given house is instance object."
   ]
  },
  {
   "cell_type": "raw",
   "id": "8bc2ac0a",
   "metadata": {},
   "source": [
    "Q4. What makes the first argument in a class’s method function special?"
   ]
  },
  {
   "cell_type": "raw",
   "id": "46ae69cd",
   "metadata": {},
   "source": [
    "A class method is similar to instance method , but it has a class object passed by its first argument.\n",
    "Recall that ,when instance method is called from an instance object,the instance object is automatically passed as first argument to the method.\n",
    "Self is acts first argument in class method ,it is not a keyword , we can give or pass any name as first argument of class method."
   ]
  },
  {
   "cell_type": "raw",
   "id": "815491c7",
   "metadata": {},
   "source": [
    "Q5. What is the purpose of the __init__ method?\n",
    "\n"
   ]
  },
  {
   "cell_type": "raw",
   "id": "256ce7b8",
   "metadata": {},
   "source": [
    "__init__ is called as the default method or constructor of class method.\n",
    "It is used to pass data or information to the class or it is useful to initialize the variables to the class.\n",
    "In this constructor we can pass number of variables.\n"
   ]
  },
  {
   "cell_type": "raw",
   "id": "572cf68b",
   "metadata": {},
   "source": [
    "Q6. What is the process for creating a class instance?"
   ]
  },
  {
   "cell_type": "raw",
   "id": "7adfbec4",
   "metadata": {},
   "source": [
    "To create a class instance we generally use __init__().\n",
    "We can call a class by its class name , passing arguments throw the class instances crete by using __init__().\n",
    "\n"
   ]
  },
  {
   "cell_type": "raw",
   "id": "d1da3faa",
   "metadata": {},
   "source": [
    "Q7. What is the process for creating a class?\n",
    "\n"
   ]
  },
  {
   "cell_type": "raw",
   "id": "ccc3828f",
   "metadata": {},
   "source": [
    "Creating a class, by using a statement called as class.\n",
    "After giving Keyword next we can give class name which is our choice.\n",
    "After That creating class instances or calsss methods by using __init__().\n",
    "ex :\n",
    "class Student:\n",
    "    def __init__(self,name):\n",
    "         self.name=name"
   ]
  },
  {
   "cell_type": "raw",
   "id": "9354fa35",
   "metadata": {},
   "source": [
    "Q8. How would you define the superclasses of a class?"
   ]
  },
  {
   "cell_type": "raw",
   "id": "d5394f15",
   "metadata": {},
   "source": [
    "The class from which a class can inherit is called as parent or super class.\n",
    "the created class is called as sub class .\n",
    "The super class is the class which may subclass can be created.\n",
    "The subclass inherits the characterstics of a super class."
   ]
  }
 ],
 "metadata": {
  "kernelspec": {
   "display_name": "Python 3 (ipykernel)",
   "language": "python",
   "name": "python3"
  },
  "language_info": {
   "codemirror_mode": {
    "name": "ipython",
    "version": 3
   },
   "file_extension": ".py",
   "mimetype": "text/x-python",
   "name": "python",
   "nbconvert_exporter": "python",
   "pygments_lexer": "ipython3",
   "version": "3.9.7"
  }
 },
 "nbformat": 4,
 "nbformat_minor": 5
}
