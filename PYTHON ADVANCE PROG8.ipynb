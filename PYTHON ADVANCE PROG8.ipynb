{
 "cells": [
  {
   "cell_type": "raw",
   "id": "b024cc54",
   "metadata": {},
   "source": [
    "Q1. What are the two latest user-defined exception constraints in Python 3.X?"
   ]
  },
  {
   "cell_type": "raw",
   "id": "b3cd9374",
   "metadata": {},
   "source": [
    "In python there are two types of exceptions 1.Pre defined exception 2.User defined exception \n",
    "Predefined exception are nothing but built in exception ,we can create our own exceptions called as user defined exceptions.\n",
    "The constraints in user defined exceptions are\n",
    "1.To create a user defined exception, we have to create a class that implements the exception class\n",
    "2.we can raise these exceptions using RAISE keyword , these exceptions can be caught in try except block as like normal exceptions3.we can define user defined exceptions with multiple in heritance or deriving error from super class exception."
   ]
  },
  {
   "cell_type": "raw",
   "id": "3fbb6f37",
   "metadata": {},
   "source": [
    "Q2. How are class-based exceptions that have been raised matched to handlers?"
   ]
  },
  {
   "cell_type": "raw",
   "id": "86386162",
   "metadata": {},
   "source": [
    "Class based exceptions are realized as instances of exception classes.\n",
    "Exception classes are eiether predefined globally in the system or can be defined by the user\n",
    "class based exceptions can be declared in the interface of procedures,for local procedures it is done using the addition raising of the statements"
   ]
  },
  {
   "cell_type": "raw",
   "id": "2524bd66",
   "metadata": {},
   "source": [
    "Q3. Describe two methods for attaching context information to exception artefacts."
   ]
  },
  {
   "cell_type": "raw",
   "id": "22661547",
   "metadata": {},
   "source": [
    "Using arguments for excptions in python is useful when we have to gain additional information about the error encounterd\n",
    "As context of an argument can vary depending upon the different types of exceptions, variables can be supplied to exceptions to capture essence encounter red error\n",
    "we can use arguments as follow\n",
    "\n",
    "\n",
    "except Errorname:\n",
    "     print(\"Error causses\")\n",
    "     \n",
    "another way is \n",
    "\n",
    "except exception as e:\n",
    "      print(e)\n",
    "      "
   ]
  },
  {
   "cell_type": "raw",
   "id": "418b98b6",
   "metadata": {},
   "source": [
    "Q4. Describe two methods for specifying the text of an exception object's error message."
   ]
  },
  {
   "cell_type": "raw",
   "id": "4a1c95e6",
   "metadata": {},
   "source": [
    "msgTxt=getReport(exception)  , gets the error message of an exception and returns"
   ]
  },
  {
   "cell_type": "raw",
   "id": "6ab7a8a4",
   "metadata": {},
   "source": [
    "Q5. Why do you no longer use string-based exceptions?"
   ]
  },
  {
   "cell_type": "raw",
   "id": "3e9d2fbc",
   "metadata": {},
   "source": [
    "This is because of a string is sequence, we must assume that error messages are always more than two characters long"
   ]
  }
 ],
 "metadata": {
  "kernelspec": {
   "display_name": "Python 3 (ipykernel)",
   "language": "python",
   "name": "python3"
  },
  "language_info": {
   "codemirror_mode": {
    "name": "ipython",
    "version": 3
   },
   "file_extension": ".py",
   "mimetype": "text/x-python",
   "name": "python",
   "nbconvert_exporter": "python",
   "pygments_lexer": "ipython3",
   "version": "3.9.7"
  }
 },
 "nbformat": 4,
 "nbformat_minor": 5
}
