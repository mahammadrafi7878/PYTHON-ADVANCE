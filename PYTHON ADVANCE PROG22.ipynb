{
 "cells": [
  {
   "cell_type": "raw",
   "id": "ac7d4e45",
   "metadata": {},
   "source": [
    "Q1. What are the benefits of the built-in array package, if any?"
   ]
  },
  {
   "cell_type": "raw",
   "id": "c1dc5b9e",
   "metadata": {},
   "source": [
    "When we say array in python, very likely to mean LIST, or we might say that python does have an array but it is form of NUMPY library.\n",
    "Array but it is not form of neither nupy library nor list , python has built in array.\n",
    "we have an array built in package in python.\n",
    "\n",
    "The benfit of built in array will have smaller size than the python list.size of the array is only about the half of the size of the LIST.\n",
    "we no need to download seperate library python has built in array we need to just import it.\n",
    "The most special feature is that it has to be defined with a type code   .\n",
    "Python array can only contain elements with a certain type.\n",
    "\n",
    "We can perform all operations wher we perform in list , like size of array, count of array, append ,extend,manipulation and reversing an array.\n",
    "We can convert an array into list also using arr.to_list()\n",
    "array losses some flexibility but has less overhead"
   ]
  },
  {
   "cell_type": "raw",
   "id": "4fe1be27",
   "metadata": {},
   "source": [
    "Q2. What are some of the array package's limitations?"
   ]
  },
  {
   "cell_type": "raw",
   "id": "d44e047c",
   "metadata": {},
   "source": [
    "1.An array occupies an amount of memory that is propotional to its size , independently number of elements that are actually of interest.\n",
    "2.If we want to keep the elements of the collection orderd and insert a new value in its correct postion or remove it , then for each such operations we may need to move many elements . this is very inefficient.\n",
    "32.The dimension of an array is determined the moment the array is created and cannot be changed later on"
   ]
  },
  {
   "cell_type": "raw",
   "id": "3d07a6ab",
   "metadata": {},
   "source": [
    "Q3. Describe the main differences between the array and numpy packages."
   ]
  },
  {
   "cell_type": "raw",
   "id": "12b9f404",
   "metadata": {},
   "source": [
    "An array is collection of homogeneous data(same data) that are stored in contiguous memory locations.\n",
    "Numpy package is nothing but a group of arrays or combination of a group of array's are called as numpy.\n",
    "Using built in array we can store and hold data like a list in python.\n",
    "But Numpy package are faster and more compact than array.It also have functions for working in domain of linear algebra, fourier transform and matrices."
   ]
  },
  {
   "cell_type": "raw",
   "id": "675f3eb6",
   "metadata": {},
   "source": [
    "Q4. Explain the distinctions between the empty, ones, and zeros functions."
   ]
  },
  {
   "cell_type": "raw",
   "id": "143b5f5a",
   "metadata": {},
   "source": [
    "Empty, zeros and ones are the numpy library function to create different arrays.\n",
    "Zeros function is used to generate an array with all valus having zeros.\n",
    "    np.zeros\n",
    "Empty are unlike zeros , does notset array values to be zero and may therfore be managing faster on the other hand it requires the user to manually set all the values in the array.\n",
    "    np.empty()\n",
    "Ones function is used to generte an array with all values having one.\n",
    "    np.ones()"
   ]
  },
  {
   "cell_type": "raw",
   "id": "abf33fa1",
   "metadata": {},
   "source": [
    "Q5. In the fromfunction function, which is used to construct new arrays, what is the role of the callable argument?"
   ]
  },
  {
   "cell_type": "raw",
   "id": "f3ea9ae1",
   "metadata": {},
   "source": [
    "  numpy.fromfunction(function: callable,shape,dtype=<class'float'>,like=None.**kwargs)  \n",
    "  this is the syntax of numpy fromfunctions with its parameters.\n",
    "  \n",
    "  this function is used to create an array by executing a function over eah coordinate. The resulting array there fore has value fn(x,y,z)  at coordinate (x,y,z)\n",
    "  \n",
    "  callable argument:  The function is called with N parameters , where N is the rank of shape, Each parameter represnt the co ordinates of the array varying along and specific axis.\n",
    "  Shape: shape of the out put array."
   ]
  },
  {
   "cell_type": "raw",
   "id": "30d0926b",
   "metadata": {},
   "source": [
    "Q6. What happens when a numpy array is combined with a single-value operand (a scalar, such as an int or a floating-point value) through addition, as in the expression A + n?"
   ]
  },
  {
   "cell_type": "raw",
   "id": "3ac80acf",
   "metadata": {},
   "source": [
    "When combined a numpy array with a single value operand , it adds single element with each element in the array resulthe combing value and not stored the values of combined value.\n"
   ]
  },
  {
   "cell_type": "code",
   "execution_count": 3,
   "id": "fa977c6d",
   "metadata": {},
   "outputs": [
    {
     "name": "stdout",
     "output_type": "stream",
     "text": [
      "[[ 5.5  6.5  8.5  9.5]\n",
      " [ 9.5 11.5 12.5 13.5]]\n",
      "[[1 2 4 5]\n",
      " [5 7 8 9]]\n"
     ]
    }
   ],
   "source": [
    "import numpy as np\n",
    "arr=np.array([[1,2,4,5],[5,7,8,9]])\n",
    "print(arr+4.5)\n",
    "print(arr)"
   ]
  },
  {
   "cell_type": "raw",
   "id": "090ac35e",
   "metadata": {},
   "source": [
    "Q7. Can array-to-scalar operations use combined operation-assign operators (such as += or *=)? What is the outcome?"
   ]
  },
  {
   "cell_type": "raw",
   "id": "396af81f",
   "metadata": {},
   "source": [
    "If we performing combined operation-assigned operaor then the values in array will be added with that value and the value is assigned to the array. This same will happend when we are performing multiplication and assigin operators."
   ]
  },
  {
   "cell_type": "code",
   "execution_count": 24,
   "id": "592d31bb",
   "metadata": {},
   "outputs": [
    {
     "name": "stdout",
     "output_type": "stream",
     "text": [
      "[[ 3  4  6  7]\n",
      " [ 7  9 10 11]]\n"
     ]
    }
   ],
   "source": [
    "import numpy as np\n",
    "arr=np.array([[1,2,4,5],[5,7,8,9]])\n",
    "arr+=2\n",
    "print(arr)"
   ]
  },
  {
   "cell_type": "code",
   "execution_count": 26,
   "id": "ffc568de",
   "metadata": {},
   "outputs": [
    {
     "name": "stdout",
     "output_type": "stream",
     "text": [
      "[[ 2  4  8 10]\n",
      " [10 14 16 18]]\n"
     ]
    }
   ],
   "source": [
    "import numpy as np\n",
    "arr=np.array([[1,2,4,5],[5,7,8,9]])\n",
    "arr*=2\n",
    "print(arr)"
   ]
  },
  {
   "cell_type": "raw",
   "id": "c3d1ae3e",
   "metadata": {},
   "source": [
    "Q8. Does a numpy array contain fixed-length strings? What happens if you allocate a longer string to one of these arrays?"
   ]
  },
  {
   "cell_type": "raw",
   "id": "9635867f",
   "metadata": {},
   "source": [
    "The dtype of any numpy array containg string values is maximum length of any string present in the array, once set it will only able to store new string having length not more than the maximum length at the time of operation.\n",
    "If we try to reassign some another string value having length gretaer than the maximum length of the existing element, it simply discord the values beyond the maximum length.\n",
    "To over come this problem we need to use create an numpy array of arbitayy length using   arr,dtype='boject"
   ]
  },
  {
   "cell_type": "raw",
   "id": "6ecd5cae",
   "metadata": {},
   "source": [
    "Q9. What happens when you combine two numpy arrays using an operation like addition (+) or multiplication (*)? What are the conditions for combining two numpy arrays?"
   ]
  },
  {
   "cell_type": "raw",
   "id": "d7b3db71",
   "metadata": {},
   "source": [
    "lets say we have two arrays A and B then combining two operation on two arras then it will add the postion of element in  array  in A  with the same postion element in the array in B .\n",
    "  This same is repeated for multiplication operator for eavk element in the array A  multiply with postion of each element in array B.\n",
    "  Two perform addition and multiplication of two arrays having same number of elements with same number of rows and columns"
   ]
  },
  {
   "cell_type": "code",
   "execution_count": 27,
   "id": "6a9d8395",
   "metadata": {},
   "outputs": [
    {
     "name": "stdout",
     "output_type": "stream",
     "text": [
      "[[ 5  7  9]\n",
      " [15 13 11]]\n",
      "[[ 4 10 18]\n",
      " [56 40 18]]\n"
     ]
    }
   ],
   "source": [
    "import numpy as np\n",
    "A=np.array([[1,2,3],[7,8,9]])\n",
    "B=np.array([[4,5,6],[8,5,2]])\n",
    "print(A+B)\n",
    "print(A*B)"
   ]
  },
  {
   "cell_type": "raw",
   "id": "655059bf",
   "metadata": {},
   "source": [
    "Q10. What is the best way to use a Boolean array to mask another array?"
   ]
  },
  {
   "cell_type": "raw",
   "id": "eaca56a1",
   "metadata": {},
   "source": [
    "A boolean array only contains the boolean values eiether True or False . THis boolean array is also cakled as mask array.\n",
    "To create mask array or boolean array from an array by using the method   ma.make_mask()  in python numpy.\n",
    "The function can accept any sequence that is convertable into intergers or non mask.\n",
    "\n",
    "      numpy.ma_make_masked_where(conditon,array)\n",
    "      numpy.ma.getmask(arr)"
   ]
  },
  {
   "cell_type": "raw",
   "id": "ba5db4eb",
   "metadata": {},
   "source": [
    "# Q11. What are three different ways to get the standard deviation of a wide collection of data using both standard Python and its packages? Sort the three of them by how quickly they execute"
   ]
  },
  {
   "cell_type": "raw",
   "id": "0921cf3f",
   "metadata": {},
   "source": [
    "Standard deviation represents the deviation of the data values or entites with respect to the mean or central value \n",
    "In python we have three variations to calcullate standard deviation\n",
    "1.standard deviatin in python using the stdev() function , python statistics model provides it\n",
    "      statistics.stdev(data)\n",
    "      \n",
    " 2. standard deviation with numpy module\n",
    "      numpy.std(data)\n",
    "      \n",
    "  3.standard deviation with pandas module \n",
    "        dataframe.std()\n",
    "        \n",
    "in these dataframe,std()>atatistics.stdev()>numpy.std()"
   ]
  },
  {
   "cell_type": "raw",
   "id": "d0ef7691",
   "metadata": {},
   "source": [
    "12. What is the dimensionality of a Boolean mask-generated array?"
   ]
  },
  {
   "cell_type": "raw",
   "id": "0e17ddab",
   "metadata": {},
   "source": [
    "The dimensionality of a boolean generated array will be the same as input array , it only converts values in array eiether True or False based on given condition.\n",
    "The boolean mask generated atarray does not chang or effect dimensionality of array."
   ]
  },
  {
   "cell_type": "code",
   "execution_count": null,
   "id": "278fdb79",
   "metadata": {},
   "outputs": [],
   "source": []
  }
 ],
 "metadata": {
  "kernelspec": {
   "display_name": "Python 3 (ipykernel)",
   "language": "python",
   "name": "python3"
  },
  "language_info": {
   "codemirror_mode": {
    "name": "ipython",
    "version": 3
   },
   "file_extension": ".py",
   "mimetype": "text/x-python",
   "name": "python",
   "nbconvert_exporter": "python",
   "pygments_lexer": "ipython3",
   "version": "3.9.7"
  }
 },
 "nbformat": 4,
 "nbformat_minor": 5
}
