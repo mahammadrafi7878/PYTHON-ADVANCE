{
 "cells": [
  {
   "cell_type": "raw",
   "id": "a775c517",
   "metadata": {},
   "source": [
    "Q1. Explain the difference between greedy and non-greedy syntax with visual terms in as few words as possible. What is the bare minimum effort required to transform a greedy pattern into a non-greedy one? What characters or characters can you introduce or change?"
   ]
  },
  {
   "cell_type": "raw",
   "id": "594a46a8",
   "metadata": {},
   "source": [
    "A Greedy quantifier such as ?,*,+,{m},{n},{m,n} matches as many characters as possibles. for example the regex  'a+' will matches many a's as possible in your string\n",
    "  example:  'aaaaa'  applying greedy quantifier 'a+' then it matches all possible a's\n",
    "A Nongreedy quantifier such as ??,*?,+? and {m,n}? matches a few characters as possible as . for example the regex 'a?' matches a few a's as possible in your string\n",
    "example :  'aaaaa'   applying Non greedy quantifier 'a+?' then it will matches the first character of andd it is done with it.\n",
    "Regular expression Quantifier means, you tell the regex engine how often you want to match a given pattern\n",
    "Greedy matches means that the regex engine tries to find your pattern in the string, matches as many characters as possible\n",
    "\n",
    "Nongreedy character match means that the regex engine mathes a few character as possible so, that it still can match the pattern uin the given string.  Nongreedy quantifier also called as \"lazy \" quantifier.\n",
    "  using greedy quantifier character two times we can introduce grredy pattern into non greedy pattern. \n",
    "  examples:  ?,*,+ are greedy characters then to change in non greedy add extra symbol ??,+?,+?,?*,**,+*  vice versa "
   ]
  },
  {
   "cell_type": "raw",
   "id": "5578c000",
   "metadata": {},
   "source": [
    "Q2. When exactly does greedy versus non-greedy make a difference?  What if you're looking for a non-greedy match but the only one available is greedy?"
   ]
  },
  {
   "cell_type": "raw",
   "id": "0de18f88",
   "metadata": {},
   "source": [
    "The difference between greedy and non greedy match is,\n",
    "The greedy match will try to match as many repetitions of the quantified patterns as possible.\n",
    "The non greedy match will try to match as few repetions of the quantified pattern as possible. "
   ]
  },
  {
   "cell_type": "raw",
   "id": "608f8630",
   "metadata": {},
   "source": [
    "Q3. In a simple match of a string, which looks only for one match and does not do any replacement, is the use of a nontagged group likely to make any practical difference?"
   ]
  },
  {
   "cell_type": "raw",
   "id": "b570f7f5",
   "metadata": {},
   "source": [
    "re.match() and re.search()  these two functions searches for some substring and doesnot do any replacement , returns a match string found else return none.\n",
    "re.match()  searches only for the begining of the string and return match object is found , else return none, if the match string is found some where in the middle of the string. doesnot do any replace operation.\n",
    "re.search() searches for the whole string even if the string contains multiple line , return matched object if found else return none and doesnot performm any replacement opertions."
   ]
  },
  {
   "cell_type": "raw",
   "id": "fc63721b",
   "metadata": {},
   "source": [
    "Q4. Describe a scenario in which using a nontagged category would have a significant impact on the program's outcomes."
   ]
  },
  {
   "cell_type": "raw",
   "id": "ecd784ad",
   "metadata": {},
   "source": [
    "Tagging is essential feature of natural language text processing and for where as we tag the words into categorization.\n",
    "If we dont use tagged concept then it will more impact on the outcome of the program , internally it does not under stand and throws an error."
   ]
  },
  {
   "cell_type": "raw",
   "id": "feee24a5",
   "metadata": {},
   "source": [
    "Q5. Unlike a normal regex pattern, a look-ahead condition does not consume the characters it examines. Describe a situation in which this could make a difference in the results of your programme."
   ]
  },
  {
   "cell_type": "raw",
   "id": "1cd5eb03",
   "metadata": {},
   "source": [
    "Look ahead is used as an assertion in python regular expressions to determine success or failure whether the pattern is ahead i.e to the right of the parser current position ,if they dont match  they are called as the zero width assertion.\n",
    "\n",
    "Look ahead is given as (?=foo)   look ahead, Asserts that what immediatly follows the current position in the strring is foo .\n",
    "\n",
    "look aheed example is , simple password validation ,simple email validation ..etc"
   ]
  },
  {
   "cell_type": "raw",
   "id": "dafc6d27",
   "metadata": {},
   "source": [
    "Q6. In standard expressions, what is the difference between positive look-ahead and negative look-ahead?"
   ]
  },
  {
   "cell_type": "raw",
   "id": "93724e00",
   "metadata": {},
   "source": [
    "POSITIVE LOOK-AHEAD:\n",
    "     syntax:   (?=<<pattern>>)  matches if pattern matches what comes after the current location in the input string.\n",
    "     \n",
    "NEGATIVE LOOK-AHEAD:\n",
    "syntax:   (?=<<pattern>>) matches if pattern doesnot match comes after the current location in the input string.\n",
    "\n",
    "    Look ahead is used as an assertion in python regular expression to determine success or failure, whether the pattern is ahead i.e right of the parser current position.They do not match anything then they are called as zero-width assertion."
   ]
  },
  {
   "cell_type": "raw",
   "id": "2c48fae3",
   "metadata": {},
   "source": [
    "Q7. What is the benefit of referring to groups by name rather than by number in a standard expression?"
   ]
  },
  {
   "cell_type": "raw",
   "id": "00263e44",
   "metadata": {},
   "source": [
    "Groups are used in python in order to reference regular expression matches, By default groups , with out names are referenced according to the numerical order starting with 1.\n",
    "Let's say we have regular expressionthat has three sub expressions , A user in his birth date according to month,then day, then year, using group() function in python, with out named groups , the first match to the month to hold referenced by using the group(1) statement, then day group(2), then year group(3).\n",
    "With named groups we can name each match in the regular expression , insteadof referencing mathes of the regular expressions with number, we can reference matches of the regular expression with names such as group('month'), group('day') and group('year'). \n",
    "\n",
    "the benfit of named group's are , makes the code more organized, more  readable and more understandable rather than default numerical referencing."
   ]
  },
  {
   "cell_type": "raw",
   "id": "d2acac59",
   "metadata": {},
   "source": [
    "Q8. Can you identify repeated items within a target string using named groups, as in \"The cow jumped over the moon\"?"
   ]
  },
  {
   "cell_type": "raw",
   "id": "511f9647",
   "metadata": {},
   "source": [
    "No , we cannot idntify items within a target string using named groups.\n",
    "Named groups can reference matches of the regular expression with names . we cannot find the repeated terms in target_string."
   ]
  },
  {
   "cell_type": "raw",
   "id": "c6c70c94",
   "metadata": {},
   "source": [
    "Q9. When parsing a string, what is at least one thing that the Scanner interface does for you that the re.findall feature does not?"
   ]
  },
  {
   "cell_type": "raw",
   "id": "d62561cb",
   "metadata": {},
   "source": [
    "A scanner simply turns an input string into a list of tokens.\n",
    "These tokens represent things like identifier, paranthesis, operators ..etc.\n",
    "A parser converts this list of tokens into a tree like object to represent how the tokens fit together to form cohesivewhole.\n",
    "Parse means to break down a sentence into its component parts , So that the meaning of the sentence can be understand.\n",
    "In a traditional argument, The parse calls the scanner when ever it needs a token."
   ]
  },
  {
   "cell_type": "raw",
   "id": "118d58a0",
   "metadata": {},
   "source": [
    "Q10. Does a scanner object have to be named scanner?"
   ]
  },
  {
   "cell_type": "raw",
   "id": "bc541be2",
   "metadata": {},
   "source": [
    "Scanner is a class used for obtains the input of the primitive data types like int,str  and string.\n",
    "It is the easier way to read input program To create an object system.in.\n",
    "\n",
    "We dont need to named scanner to a scanner object.\n",
    "\n",
    "we may pass an object of class file if we want to read input from files.\n"
   ]
  },
  {
   "cell_type": "raw",
   "id": "72f4fe96",
   "metadata": {},
   "source": []
  },
  {
   "cell_type": "code",
   "execution_count": null,
   "id": "031b21f7",
   "metadata": {},
   "outputs": [],
   "source": []
  },
  {
   "cell_type": "code",
   "execution_count": null,
   "id": "783502f2",
   "metadata": {},
   "outputs": [],
   "source": []
  },
  {
   "cell_type": "code",
   "execution_count": null,
   "id": "9b40cbd4",
   "metadata": {},
   "outputs": [],
   "source": []
  }
 ],
 "metadata": {
  "kernelspec": {
   "display_name": "Python 3 (ipykernel)",
   "language": "python",
   "name": "python3"
  },
  "language_info": {
   "codemirror_mode": {
    "name": "ipython",
    "version": 3
   },
   "file_extension": ".py",
   "mimetype": "text/x-python",
   "name": "python",
   "nbconvert_exporter": "python",
   "pygments_lexer": "ipython3",
   "version": "3.9.7"
  }
 },
 "nbformat": 4,
 "nbformat_minor": 5
}
