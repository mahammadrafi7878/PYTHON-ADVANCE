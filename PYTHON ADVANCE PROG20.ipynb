{
 "cells": [
  {
   "cell_type": "raw",
   "id": "4af928a9",
   "metadata": {},
   "source": [
    "1. Compare and contrast the float and Decimal classes' benefits and drawbacks."
   ]
  },
  {
   "cell_type": "raw",
   "id": "01ecc613",
   "metadata": {},
   "source": [
    "Use float when convenience and speed matter . A float gives approximately of the number what declare.\n",
    " example: \n",
    "    if print0.1 with 18 decimal place get 0.1 but insead with  with 18 decimals \n",
    "   similarly when doing operation such as addition with float we will get approximation, which lead confuse code.\n",
    "   \n",
    " To fix this equality test then we use decimals or   we need to round"
   ]
  },
  {
   "cell_type": "code",
   "execution_count": 7,
   "id": "ae1f478e",
   "metadata": {},
   "outputs": [
    {
     "name": "stdout",
     "output_type": "stream",
     "text": [
      "0.100000000000000006\n",
      "0.30000000000000004\n",
      "False\n",
      "0.3\n"
     ]
    }
   ],
   "source": [
    "print(f\"{0.1:.18f}\")\n",
    "print(.1+.1+.1)\n",
    "print(.1+.1+.1==3)   # here we are getting false because of the float approximation.\n",
    "print(round(.1+.1+.1,10))"
   ]
  },
  {
   "cell_type": "raw",
   "id": "125fb095",
   "metadata": {},
   "source": [
    "Use decimals when precision matters , using decimals it prevents the stuble bugs introduced by float.\n",
    "Decimals are suffered from their own precision rules, decimals have their own rounding that case precision issues.\n"
   ]
  },
  {
   "cell_type": "code",
   "execution_count": 16,
   "id": "114a09b5",
   "metadata": {},
   "outputs": [
    {
     "data": {
      "text/plain": [
       "Decimal('0.01')"
      ]
     },
     "execution_count": 16,
     "metadata": {},
     "output_type": "execute_result"
    }
   ],
   "source": [
    "from decimal import Decimal\n",
    "Decimal('0.01')"
   ]
  },
  {
   "cell_type": "raw",
   "id": "8f2c7108",
   "metadata": {},
   "source": [
    "2. Decimal('1.200') and Decimal('1.2') are two objects to consider. In what sense are these the same object? Are these just two ways of representing the exact same value, or do they correspond to different internal states?"
   ]
  },
  {
   "cell_type": "code",
   "execution_count": 23,
   "id": "44604380",
   "metadata": {},
   "outputs": [
    {
     "name": "stdout",
     "output_type": "stream",
     "text": [
      "1.1999999999999999555910790149937383830547332763671875\n",
      "1.1999999999999999555910790149937383830547332763671875\n"
     ]
    }
   ],
   "source": [
    "print(Decimal(1.2))\n",
    "print(Decimal(1.200))   \n",
    "#if we are passing values with float format then they return same values , they correspond to different internal states "
   ]
  },
  {
   "cell_type": "raw",
   "id": "57a42141",
   "metadata": {},
   "source": [
    "3. What happens if the equality of Decimal('1.200') and Decimal('1.2') is checked?"
   ]
  },
  {
   "cell_type": "code",
   "execution_count": 26,
   "id": "24555e24",
   "metadata": {},
   "outputs": [
    {
     "data": {
      "text/plain": [
       "True"
      ]
     },
     "execution_count": 26,
     "metadata": {},
     "output_type": "execute_result"
    }
   ],
   "source": [
    "Decimal('1.200') == Decimal('1.2') \n",
    "# when comparing these will return true value because of Decimal use prcission "
   ]
  },
  {
   "cell_type": "raw",
   "id": "08a5c93e",
   "metadata": {},
   "source": [
    "4. Why is it preferable to start a Decimal object with a string rather than a floating-point value?"
   ]
  },
  {
   "cell_type": "raw",
   "id": "b0b4b480",
   "metadata": {},
   "source": [
    "The decimals are used strings for Initialization.\n",
    "in below example, Decimals to be equal  but because of precision issues with floats , the decimal equality returns false\n",
    "So all decimals should be initialised using strings to prevent precision issues , If decimals are not initialised with string , lose some of precision benfits of decimal but create subtle bugs."
   ]
  },
  {
   "cell_type": "code",
   "execution_count": 28,
   "id": "7f6eff2f",
   "metadata": {},
   "outputs": [
    {
     "data": {
      "text/plain": [
       "False"
      ]
     },
     "execution_count": 28,
     "metadata": {},
     "output_type": "execute_result"
    }
   ],
   "source": [
    "Decimal(0.01)==Decimal('0.01')"
   ]
  },
  {
   "cell_type": "code",
   "execution_count": null,
   "id": "5ee326e6",
   "metadata": {},
   "outputs": [],
   "source": []
  },
  {
   "cell_type": "code",
   "execution_count": null,
   "id": "ba90b160",
   "metadata": {},
   "outputs": [],
   "source": [
    "5. In an arithmetic phrase, how simple is it to combine Decimal objects with integers"
   ]
  },
  {
   "cell_type": "raw",
   "id": "666ccae5",
   "metadata": {},
   "source": [
    "Decimal output we get are decimal.Decimal  ,which are nothing but decimals and fractions  are used to hold numerical values that are integers, then it is simple to combine with intergers."
   ]
  },
  {
   "cell_type": "code",
   "execution_count": 36,
   "id": "9a5905a5",
   "metadata": {},
   "outputs": [
    {
     "data": {
      "text/plain": [
       "Decimal('4.01')"
      ]
     },
     "execution_count": 36,
     "metadata": {},
     "output_type": "execute_result"
    }
   ],
   "source": [
    "Decimal('0.01')+4"
   ]
  },
  {
   "cell_type": "raw",
   "id": "c53ec14d",
   "metadata": {},
   "source": [
    "6. Can Decimal objects and floating-point values be combined easily?"
   ]
  },
  {
   "cell_type": "raw",
   "id": "2cd025ff",
   "metadata": {},
   "source": [
    "decimals,floats and fractions are interger data types. But flots have some prcision matters and decimals have its own precision rule we cannot combine decimals and float.\n",
    "To combine decimals and floats we need to do type casting , converting float into decimals."
   ]
  },
  {
   "cell_type": "code",
   "execution_count": 4,
   "id": "38073bba",
   "metadata": {},
   "outputs": [
    {
     "ename": "TypeError",
     "evalue": "unsupported operand type(s) for +: 'decimal.Decimal' and 'float'",
     "output_type": "error",
     "traceback": [
      "\u001b[1;31m---------------------------------------------------------------------------\u001b[0m",
      "\u001b[1;31mTypeError\u001b[0m                                 Traceback (most recent call last)",
      "\u001b[1;32m~\\AppData\\Local\\Temp/ipykernel_6752/3093433881.py\u001b[0m in \u001b[0;36m<module>\u001b[1;34m\u001b[0m\n\u001b[0;32m      1\u001b[0m \u001b[1;32mfrom\u001b[0m \u001b[0mdecimal\u001b[0m \u001b[1;32mimport\u001b[0m \u001b[0mDecimal\u001b[0m\u001b[1;33m\u001b[0m\u001b[1;33m\u001b[0m\u001b[0m\n\u001b[1;32m----> 2\u001b[1;33m \u001b[0mDecimal\u001b[0m\u001b[1;33m(\u001b[0m\u001b[1;34m'0.01'\u001b[0m\u001b[1;33m)\u001b[0m\u001b[1;33m+\u001b[0m\u001b[1;36m4.5\u001b[0m\u001b[1;33m\u001b[0m\u001b[1;33m\u001b[0m\u001b[0m\n\u001b[0m",
      "\u001b[1;31mTypeError\u001b[0m: unsupported operand type(s) for +: 'decimal.Decimal' and 'float'"
     ]
    }
   ],
   "source": [
    "from decimal import Decimal\n",
    "Decimal('0.01')+4.5"
   ]
  },
  {
   "cell_type": "code",
   "execution_count": 10,
   "id": "2458a350",
   "metadata": {},
   "outputs": [
    {
     "data": {
      "text/plain": [
       "Decimal('4.51')"
      ]
     },
     "execution_count": 10,
     "metadata": {},
     "output_type": "execute_result"
    }
   ],
   "source": [
    "from decimal import Decimal\n",
    "Decimal('0.01')+Decimal(4.5)   # doing type casting."
   ]
  },
  {
   "cell_type": "raw",
   "id": "5e3a7452",
   "metadata": {},
   "source": [
    "7. Using the Fraction class but not the Decimal class, give an example of a quantity that can be expressed with absolute precision."
   ]
  },
  {
   "cell_type": "raw",
   "id": "29dbc205",
   "metadata": {},
   "source": [
    "Decimals are suffered from their own precision rule issues , example showwn below"
   ]
  },
  {
   "cell_type": "code",
   "execution_count": 14,
   "id": "31714c40",
   "metadata": {},
   "outputs": [
    {
     "data": {
      "text/plain": [
       "False"
      ]
     },
     "execution_count": 14,
     "metadata": {},
     "output_type": "execute_result"
    }
   ],
   "source": [
    "Decimal('1')/Decimal('3')*Decimal('3')==Decimal('1')"
   ]
  },
  {
   "cell_type": "code",
   "execution_count": 15,
   "id": "d40a4c2f",
   "metadata": {},
   "outputs": [
    {
     "data": {
      "text/plain": [
       "Decimal('0.9999999999999999999999999999')"
      ]
     },
     "execution_count": 15,
     "metadata": {},
     "output_type": "execute_result"
    }
   ],
   "source": [
    "Decimal('1')/Decimal('3')*Decimal('3')"
   ]
  },
  {
   "cell_type": "raw",
   "id": "aa5992db",
   "metadata": {},
   "source": [
    "Decimals having their own hidden rounding that case precision issues , to eliminate these hidden rounding , we need to use python fraction module.\n",
    "The fraction module provides support for rational numbers and arithematic , once again to avoid any precision issues , initializes the fraction with string.\n",
    "A Fraction instance can be constructed from a pair of integers, from another rational numbers or from a string . Fraction instances are hashable and should be treated as immutable."
   ]
  },
  {
   "cell_type": "code",
   "execution_count": 16,
   "id": "6e2c52df",
   "metadata": {},
   "outputs": [
    {
     "data": {
      "text/plain": [
       "True"
      ]
     },
     "execution_count": 16,
     "metadata": {},
     "output_type": "execute_result"
    }
   ],
   "source": [
    "from fractions import Fraction\n",
    "Fraction('1')/Fraction('3')*Fraction('3')==Fraction('1')"
   ]
  },
  {
   "cell_type": "code",
   "execution_count": 27,
   "id": "739fa326",
   "metadata": {},
   "outputs": [
    {
     "name": "stdout",
     "output_type": "stream",
     "text": [
      "1\n",
      "2\n"
     ]
    }
   ],
   "source": [
    "print(Fraction('1')/Fraction('3')*Fraction('3'))\n",
    "print(Fraction(10,5))   # fraction rational number s"
   ]
  },
  {
   "cell_type": "raw",
   "id": "598134bb",
   "metadata": {},
   "source": [
    "8. Describe a quantity that can be accurately expressed by the Decimal or Fraction classes but not by a floating-point value."
   ]
  },
  {
   "cell_type": "raw",
   "id": "aa9483ff",
   "metadata": {},
   "source": [
    "The decimals are used strings for Initialization.\n",
    "in below example, Decimals to be equal  but because of precision issues with floats , the decimal equality returns false\n",
    "So all decimals should be initialised using strings to prevent precision issues , If decimals are not initialised with string , lose some of precision benfits of decimal but create subtle bugs."
   ]
  },
  {
   "cell_type": "code",
   "execution_count": 33,
   "id": "4bb4587f",
   "metadata": {},
   "outputs": [
    {
     "data": {
      "text/plain": [
       "False"
      ]
     },
     "execution_count": 33,
     "metadata": {},
     "output_type": "execute_result"
    }
   ],
   "source": [
    "Decimal('1')/Decimal('3')*Decimal('3')==Decimal('1')"
   ]
  },
  {
   "cell_type": "code",
   "execution_count": 34,
   "id": "53cf0255",
   "metadata": {},
   "outputs": [
    {
     "data": {
      "text/plain": [
       "Decimal('0.9999999999999999999999999999')"
      ]
     },
     "execution_count": 34,
     "metadata": {},
     "output_type": "execute_result"
    }
   ],
   "source": [
    "Decimal('1')/Decimal('3')*Decimal('3')"
   ]
  },
  {
   "cell_type": "code",
   "execution_count": 28,
   "id": "1e3ae119",
   "metadata": {},
   "outputs": [
    {
     "data": {
      "text/plain": [
       "True"
      ]
     },
     "execution_count": 28,
     "metadata": {},
     "output_type": "execute_result"
    }
   ],
   "source": [
    "Decimal('1.200') == Decimal('1.2') "
   ]
  },
  {
   "cell_type": "code",
   "execution_count": 32,
   "id": "a3308cb4",
   "metadata": {},
   "outputs": [
    {
     "data": {
      "text/plain": [
       "Decimal('6.5')"
      ]
     },
     "execution_count": 32,
     "metadata": {},
     "output_type": "execute_result"
    }
   ],
   "source": [
    "Decimal(1.5)+5"
   ]
  },
  {
   "cell_type": "raw",
   "id": "962fc528",
   "metadata": {},
   "source": [
    "Q9.Consider the following two fraction objects: Fraction(1, 2) and Fraction(1, 2). (5, 10). Is the internal state of these two objects the same? Why do you think that is?\n",
    "\n"
   ]
  },
  {
   "cell_type": "code",
   "execution_count": 26,
   "id": "9731abcc",
   "metadata": {},
   "outputs": [
    {
     "name": "stdout",
     "output_type": "stream",
     "text": [
      "1/2\n",
      "1/2\n"
     ]
    }
   ],
   "source": [
    "print(Fraction(1, 2))\n",
    "print(Fraction(5, 10))\n",
    "#the stae of these two objects are same because of it returns the rational numbers"
   ]
  },
  {
   "cell_type": "raw",
   "id": "154fb3b4",
   "metadata": {},
   "source": [
    "Q10. How do the Fraction class and the integer type (int) relate to each other? Containment or inheritance?"
   ]
  },
  {
   "cell_type": "raw",
   "id": "5d40ebd3",
   "metadata": {},
   "source": [
    "A Fraction instance can be constructed from a pair of integers, from another rational numbers or from a string . Fraction instances are hashable and should be treated as immutable.\n",
    "It allows to create Fraction instance from intergers, floats,numbers& decimal,strings   so , Fraction class is inherited from int class."
   ]
  }
 ],
 "metadata": {
  "kernelspec": {
   "display_name": "Python 3 (ipykernel)",
   "language": "python",
   "name": "python3"
  },
  "language_info": {
   "codemirror_mode": {
    "name": "ipython",
    "version": 3
   },
   "file_extension": ".py",
   "mimetype": "text/x-python",
   "name": "python",
   "nbconvert_exporter": "python",
   "pygments_lexer": "ipython3",
   "version": "3.9.7"
  }
 },
 "nbformat": 4,
 "nbformat_minor": 5
}
