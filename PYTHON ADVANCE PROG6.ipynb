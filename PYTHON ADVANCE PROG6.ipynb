{
 "cells": [
  {
   "cell_type": "raw",
   "id": "2b5b5334",
   "metadata": {},
   "source": [
    "Q1. Describe three applications for exception processing."
   ]
  },
  {
   "cell_type": "raw",
   "id": "f3fde862",
   "metadata": {},
   "source": [
    "An exception is an event,which occurs during the execution of a program that dirupts the normal flow of the program instructions.\n",
    "In general when a pyton script encounter a situation that is it cannot  cope with it, it raises an exception.\n",
    "\n",
    "when bugs and errors are part of programming , and we dont want to execution of program if we found some difficulty exception process is very useful.\n",
    "\n",
    "In exception processing we have Try,Except, Raise, Finally, Else blocks\n",
    "\n",
    "\n",
    "If aprogram or code have raise an exception , we can define the code in a try block\n",
    "after a try block , include an Exception statement followed by try block.\n",
    "\n",
    "\n",
    "Inside a try block we can write multiple except blocks\n",
    "after try block if we have no idea which error is happening first , then except block think which kind of error to handle exception\n",
    "We can raise an exception in several ways by using the Raise key word\n",
    "Finally block will execute if the program if the statement is correct or wrong\n",
    "Else block executed only when the statement or code not correct\n"
   ]
  },
  {
   "cell_type": "raw",
   "id": "0a7f77e0",
   "metadata": {},
   "source": [
    "Q2. What happens if you don't do something extra to treat an exception?"
   ]
  },
  {
   "cell_type": "raw",
   "id": "d755a6e6",
   "metadata": {},
   "source": [
    "When an exception occured,if you don't handle it , the program terminates abruptly and the code past the line caused an exception will not get executed. \n",
    "There we can have built in exception  and we can create our own exceptions called as user defined exception"
   ]
  },
  {
   "cell_type": "raw",
   "id": "a3510e9b",
   "metadata": {},
   "source": [
    "Q3. What are your options for recovering from an exception in your script?"
   ]
  },
  {
   "cell_type": "raw",
   "id": "ebb06dd5",
   "metadata": {},
   "source": [
    "There are several ways to recovering from an exception\n",
    "\n",
    "TRY-EXCEPT :\n",
    "   In python we catch exceptions and we can handle them using TRY and EXCEPT code block.\n",
    "   The Try block contains the code that can raise an exception.\n",
    "   while the except block contains code lines that can handle an excption\n",
    "   \n",
    " RAISE :\n",
    "      If a condition does not meet our criteerea , but it is correct according to pythoninterpreter\n",
    "      We can intenstionally raise an exception using raise key word\n",
    "      \n",
    " we can perform Try block along with finally or Else blocks, where as if the code is incorrect then only else block gives ouput, in Finally case it give result any way\n",
    " we can use assert statements to find if the code is correct or not"
   ]
  },
  {
   "cell_type": "raw",
   "id": "874643c9",
   "metadata": {},
   "source": [
    "Q4. Describe two methods for triggering exceptions in your script."
   ]
  },
  {
   "cell_type": "raw",
   "id": "5d2a56cb",
   "metadata": {},
   "source": [
    "TRY: \n",
    "    this method cathes the exception raised by the program\n",
    "RAISE:\n",
    "    Trigger's an expression manually using custom excption"
   ]
  },
  {
   "cell_type": "raw",
   "id": "177ac973",
   "metadata": {},
   "source": [
    "Q5. Identify two methods for specifying actions to be executed at termination time, regardless of whether or not an exception exists."
   ]
  },
  {
   "cell_type": "code",
   "execution_count": null,
   "id": "82f71e14",
   "metadata": {},
   "outputs": [],
   "source": [
    "FINALLY:\n",
    "    this block will executed even if the code is correct or wrong\n",
    "ELSE:\n",
    "    this block will executed only when the code part is incorrect"
   ]
  }
 ],
 "metadata": {
  "kernelspec": {
   "display_name": "Python 3 (ipykernel)",
   "language": "python",
   "name": "python3"
  },
  "language_info": {
   "codemirror_mode": {
    "name": "ipython",
    "version": 3
   },
   "file_extension": ".py",
   "mimetype": "text/x-python",
   "name": "python",
   "nbconvert_exporter": "python",
   "pygments_lexer": "ipython3",
   "version": "3.9.7"
  }
 },
 "nbformat": 4,
 "nbformat_minor": 5
}
