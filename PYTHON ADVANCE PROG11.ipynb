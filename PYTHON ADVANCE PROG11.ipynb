{
 "cells": [
  {
   "cell_type": "raw",
   "id": "bf0f6d6f",
   "metadata": {},
   "source": [
    "Q1. What is the concept of a metaclass?"
   ]
  },
  {
   "cell_type": "raw",
   "id": "cb602279",
   "metadata": {},
   "source": [
    "A metaclass in python is a class of class that defines how a class behave.\n",
    "A class is is itself an instance of a metaclass, a class in pyton defines how the instance of the class will behave.A metaclass is class whos instances are classes\n",
    "In python  class is also an object,and just like any other objects, it is instance of something called metaclaass.\n",
    "A special class type creates these class objects , the \"RYPE\" class is default metaclass ,which is responsible for making classes , lets take a example\n",
    "In python every thing has has some type associated it, every type in python is defined by class."
   ]
  },
  {
   "cell_type": "code",
   "execution_count": 2,
   "id": "2d55d257",
   "metadata": {},
   "outputs": [
    {
     "name": "stdout",
     "output_type": "stream",
     "text": [
      "type of student is  <class 'type'>\n"
     ]
    }
   ],
   "source": [
    "class student:\n",
    "    pass\n",
    "print(\"type of student is \",type(student))"
   ]
  },
  {
   "cell_type": "raw",
   "id": "365697e4",
   "metadata": {},
   "source": [
    "here we are getting the type of the student as type, because classes are also an object they can be modified in same way ,we caqn add or subtract fields or methods in classes in the same way we did with objects.\n",
    "lets take a example"
   ]
  },
  {
   "cell_type": "code",
   "execution_count": 6,
   "id": "46af35d8",
   "metadata": {},
   "outputs": [
    {
     "name": "stdout",
     "output_type": "stream",
     "text": [
      "45\n",
      "hello\n"
     ]
    }
   ],
   "source": [
    "class text:\n",
    "    pass\n",
    "text.x=45\n",
    "text.foo=lambda self:print(\"hello\")\n",
    "myobj=text()\n",
    "print(myobj.x)\n",
    "myobj.foo()"
   ]
  },
  {
   "cell_type": "raw",
   "id": "c5724433",
   "metadata": {},
   "source": [
    "Here whole the metaclass thing can be as \" metaclass creates classes and classes creates the objects\"\n",
    "i.e \"objects are instances of classes and classes are instances metacklasses\"\n"
   ]
  },
  {
   "cell_type": "raw",
   "id": "ddbaf127",
   "metadata": {},
   "source": [
    "Q2. What is the best way to declare a class's metaclass?"
   ]
  },
  {
   "cell_type": "raw",
   "id": "010156c1",
   "metadata": {},
   "source": [
    "The best way to declare a class metaclass is creating custom meta class using type() function.\n",
    "in these we use  inherit type metaclass, To create our custom meta claass , our custom metaclass has to inherit type metaclasses and usually override\n",
    "creating using default meta class TYPE() function, we can create classes using the type() function\n",
    "creating meta class using type() function:\n",
    "when we called with only one argument , it retrns the type \n",
    "when called with three arguments, it creates a class and following parameters are passed to it\n",
    "1.class name\n",
    "2.tuple having base class inherited by claass\n",
    "3.class dictionary"
   ]
  },
  {
   "cell_type": "code",
   "execution_count": 7,
   "id": "441d5693",
   "metadata": {},
   "outputs": [
    {
     "name": "stdout",
     "output_type": "stream",
     "text": [
      "type of test class <class 'type'>\n",
      "type of test obj <class '__main__.test'>\n",
      "this is inheritence method\n",
      "this is a test class method\n",
      "hello\n"
     ]
    }
   ],
   "source": [
    "def test_method(self):\n",
    "    print(\"this is a test class method\")\n",
    "class Base:\n",
    "    def myfun(self):\n",
    "        print(\"this is inheritence method\")\n",
    "        \n",
    "# creating test class dynnamically using type \n",
    "Test=type(\"test\",(Base,),dict(x='hello',my_method=test_method))\n",
    "print(\"type of test class\",type(Test))\n",
    "test_obj=Test()\n",
    "print(\"type of test obj\",type(test_obj))\n",
    "test_obj.myfun()\n",
    "test_obj.my_method()\n",
    "print(test_obj.x)"
   ]
  },
  {
   "cell_type": "raw",
   "id": "29d95b38",
   "metadata": {},
   "source": [
    " we can also create class's metaclass without using type() , here we need to create multiple bases which will check if the class being created has inherited more than one base class"
   ]
  },
  {
   "cell_type": "raw",
   "id": "7c66b2a8",
   "metadata": {},
   "source": [
    "Q3. How do class decorators overlap with metaclasses for handling classes?"
   ]
  },
  {
   "cell_type": "raw",
   "id": "975d2e57",
   "metadata": {},
   "source": [
    "we can define a decorator as a class inorder to that , we have to use a _call_ method clause.\n",
    "when a user needs to create an object that acts as a function,decorator need to return an object that acts like a function\n",
    "some times decorator are overlap with mtaclasses interms of functionality used for manage agument instances.\n",
    "class decoraters can also agument classes, independent of any created instances\n",
    "supose we coded our manager function to return the agumented class, instead of simply modifying it in place this would allow a greator degree of flexibilty, because of the manager would be free to return any type of object that implement class is expected. \n",
    "class decorators canapply extra logic to classes not just instances"
   ]
  },
  {
   "cell_type": "raw",
   "id": "61cec3ce",
   "metadata": {},
   "source": [
    "Q4. How do class decorators overlap with metaclasses for handling instances?"
   ]
  },
  {
   "cell_type": "raw",
   "id": "939f5757",
   "metadata": {},
   "source": [
    "class DEcorators can be used to manage both instances and classes and they intersect with meta classes in the second of role\n",
    "class decorators as a tool for agumenting instance creation calls. Because they work by automatically rebinding a class name to the result of a function though there no reaason that we cannot use them to agument the class before any instances are ever created."
   ]
  },
  {
   "cell_type": "code",
   "execution_count": null,
   "id": "6477c59c",
   "metadata": {},
   "outputs": [],
   "source": []
  }
 ],
 "metadata": {
  "kernelspec": {
   "display_name": "Python 3 (ipykernel)",
   "language": "python",
   "name": "python3"
  },
  "language_info": {
   "codemirror_mode": {
    "name": "ipython",
    "version": 3
   },
   "file_extension": ".py",
   "mimetype": "text/x-python",
   "name": "python",
   "nbconvert_exporter": "python",
   "pygments_lexer": "ipython3",
   "version": "3.9.7"
  }
 },
 "nbformat": 4,
 "nbformat_minor": 5
}
