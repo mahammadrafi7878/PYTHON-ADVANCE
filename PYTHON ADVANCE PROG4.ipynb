{
 "cells": [
  {
   "cell_type": "raw",
   "id": "28b06002",
   "metadata": {},
   "source": [
    " Q1. Which two operator overloading methods can you use in your classes to support iteration?"
   ]
  },
  {
   "cell_type": "raw",
   "id": "1582e481",
   "metadata": {},
   "source": [
    "Operator overloading plays a vital role in programing languages,in python this is not implied directly,they hold significant role allowing repetative usage of code.\n",
    "The most common example of Operator overloading is addition \"+\" operator, we can use comparison operators and multiplication \"*\" operator also used for operaotor overloading .\n",
    "In this case we need to support iteration using two operator overloading methods then we are using ,addition \"+\" operator and a comparissionn operator.\n",
    "in the given code __iter__ method returns iterator object implicitly and , __next__ method is used for next value and called at each iteration"
   ]
  },
  {
   "cell_type": "code",
   "execution_count": 5,
   "id": "e9297ac4",
   "metadata": {},
   "outputs": [
    {
     "name": "stdout",
     "output_type": "stream",
     "text": [
      "1\n",
      "2\n",
      "3\n",
      "4\n",
      "5\n",
      "6\n",
      "7\n",
      "8\n",
      "9\n",
      "10\n"
     ]
    }
   ],
   "source": [
    "class Counter:\n",
    "    def __init__(self,low,high):\n",
    "        self.current=low\n",
    "        self.high=high\n",
    "    def __iter__(self):\n",
    "        return self\n",
    "    def __next__(self):\n",
    "        if self.current >self.high:\n",
    "            raise StopIteration\n",
    "        else:\n",
    "            self.current+=1\n",
    "            return self.current-1\n",
    "for num in Counter(1,10):\n",
    "    print(num)"
   ]
  },
  {
   "cell_type": "raw",
   "id": "1a75327b",
   "metadata": {},
   "source": [
    "Q2. In what contexts do the two operator overloading methods manage printing?"
   ]
  },
  {
   "cell_type": "raw",
   "id": "7ec973d0",
   "metadata": {},
   "source": [
    "From above program we can say , til the comprission operator get fail or wrong , tsill that situations the two operator overloading is manage print or return"
   ]
  },
  {
   "cell_type": "raw",
   "id": "88cd0ab7",
   "metadata": {},
   "source": [
    "Q3. In a class, how do you intercept slice operations?"
   ]
  },
  {
   "cell_type": "raw",
   "id": "8e0cfa90",
   "metadata": {},
   "source": [
    "The __getitem__ method is used for accessing list items,array elements, dictionary entities   ...etc.\n",
    "__get__ method can be implemented in a class , and the behavior of slicing can be defined inside it."
   ]
  },
  {
   "cell_type": "code",
   "execution_count": 23,
   "id": "dc0170d5",
   "metadata": {},
   "outputs": [
    {
     "name": "stdout",
     "output_type": "stream",
     "text": [
      "(1, 2)\n",
      "pe\n"
     ]
    }
   ],
   "source": [
    "class Demo:\n",
    "    def __getitem__(self,key):\n",
    "        \n",
    "        \n",
    "        return key\n",
    "a=Demo()\n",
    "print(a[1,2])\n",
    "# in normal using slice \n",
    "sli=\"poewe\".__getitem__(slice(0,4,2))\n",
    "print(sli)"
   ]
  },
  {
   "cell_type": "raw",
   "id": "63ecec56",
   "metadata": {},
   "source": [
    "Q4. In a class, how do you capture in-place addition?"
   ]
  },
  {
   "cell_type": "raw",
   "id": "073eec2e",
   "metadata": {},
   "source": [
    "In place operation is an operation that changes directly the content of a given vector , metrics with out making a copy.\n",
    "The operators which help to do the operation is called as inplace operators\n",
    "EXAMPLE:\n",
    "        x+=1\n",
    "    there are some operators are used for inplace operators they are \n",
    "    iadd(),isub(),imul(),iconct(),imod()\n",
    "    "
   ]
  },
  {
   "cell_type": "code",
   "execution_count": 17,
   "id": "3a10ddf4",
   "metadata": {},
   "outputs": [],
   "source": [
    "# inplace additon using class\n",
    "class A:\n",
    "    def __init__(self,a,b):\n",
    "        self.a=a\n",
    "        self.b=b\n",
    "    def __add__(self):\n",
    "        return self.iadd(self.a,self.b)"
   ]
  },
  {
   "cell_type": "raw",
   "id": "720e55f5",
   "metadata": {},
   "source": [
    "Q5. When is it appropriate to use operator overloading?"
   ]
  },
  {
   "cell_type": "raw",
   "id": "096fbab2",
   "metadata": {},
   "source": [
    "operator overloading means giving extend meaning beyond their predefined operationalmeaning.\n",
    "for example addition \"+\" operator is used for int class and str class, with respect to int class it gives addition and with respect to  str class it gives concatenation.\n",
    "If the user want to make the operator  \"+\" to add two class objects, and opertor overloading is mostly used when you are making a new class that falls in existing \"Abstract Base Class\""
   ]
  }
 ],
 "metadata": {
  "kernelspec": {
   "display_name": "Python 3 (ipykernel)",
   "language": "python",
   "name": "python3"
  },
  "language_info": {
   "codemirror_mode": {
    "name": "ipython",
    "version": 3
   },
   "file_extension": ".py",
   "mimetype": "text/x-python",
   "name": "python",
   "nbconvert_exporter": "python",
   "pygments_lexer": "ipython3",
   "version": "3.9.7"
  }
 },
 "nbformat": 4,
 "nbformat_minor": 5
}
