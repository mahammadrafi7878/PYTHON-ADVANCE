{
 "cells": [
  {
   "cell_type": "raw",
   "id": "387cab8e",
   "metadata": {},
   "source": [
    "Q1. In Python 3.X, what are the names and functions of string object types?"
   ]
  },
  {
   "cell_type": "raw",
   "id": "f85876b0",
   "metadata": {},
   "source": [
    "In python the string objects have many functions i.e in built functions some of them are\n",
    "to change cases we can use upper(),lower(),swapcase()\n",
    "to find title title()\n",
    "capitalize(),center(),count(),expandtabs(),find(),format(),\n",
    "isnumeric(),isdigit(),isalnum(),isidentifier(), these are result in boolean form\n",
    "like these in string objects we have many types of functions"
   ]
  },
  {
   "cell_type": "raw",
   "id": "6a920c74",
   "metadata": {},
   "source": [
    "Q2. How do the string forms in Python 3.X vary in terms of operations?"
   ]
  },
  {
   "cell_type": "raw",
   "id": "9ad9bc15",
   "metadata": {},
   "source": [
    "Python string is a sequence of unicode characters that is enclosed in question marks\n",
    "Every string method does not change the original string instead of returns a new string with the changed attributes\n",
    "string is a immutable object ,so we receive new string with the changed attributes"
   ]
  },
  {
   "cell_type": "raw",
   "id": "590178e2",
   "metadata": {},
   "source": [
    "Q3. In 3.X, how do you put non-ASCII Unicode characters in a string?"
   ]
  },
  {
   "cell_type": "raw",
   "id": "fc6882c3",
   "metadata": {},
   "source": [
    "In order to use non ASCII characterstics in python requires explict encoding and decoding of strings into unicode.\n",
    "In python scripts are assumed to be encoded in UTF-8, which is standard unicode encoding that supports non ASCII characters"
   ]
  },
  {
   "cell_type": "raw",
   "id": "3cb2fa9f",
   "metadata": {},
   "source": [
    "Q4. In Python 3.X, what are the key differences between text-mode and binary-mode files?"
   ]
  },
  {
   "cell_type": "raw",
   "id": "ae6c9c8a",
   "metadata": {},
   "source": [
    "In text file we can store text,charcters, numbers are stored one character per byte,In binary files data is stored in binary format and each data can occupy the same number of bytes\n",
    "Text files are used to store data user friendly.Binaryfiles are stored data more compactly.\n",
    "content written in text files are human readable , content written in binary files is not human readable and looks like a encrypted.\n"
   ]
  },
  {
   "cell_type": "raw",
   "id": "707aa12f",
   "metadata": {},
   "source": [
    "Q5. How can you interpret a Unicode text file containing text encoded in a different encoding than your platform's default?"
   ]
  },
  {
   "cell_type": "raw",
   "id": "e073aff8",
   "metadata": {},
   "source": [
    "unicode uses two encoding forms 8-bit ,16-bit based on the data types of the data that is being encoded\n",
    "There are three types of character encodings UTF-8,UTF-16  and UTF-32\n",
    "out of these UTF-8 should be used for web content and all content  consider convertings any content in legacy encoding UTF-8"
   ]
  },
  {
   "cell_type": "raw",
   "id": "22f9380a",
   "metadata": {},
   "source": [
    "Q6. What is the best way to make a Unicode text file in a particular encoding format?"
   ]
  },
  {
   "cell_type": "raw",
   "id": "fe6ebd43",
   "metadata": {},
   "source": [
    "we mostly use the UTF-8 format , because of it is used for webcontent.\n",
    "unicode uses two encoding forms 8-bit ,16-bit based on the data types of the data that is being encoded\n",
    "There are three types of character encodings UTF-8,UTF-16  and UTF-32\n",
    "out of these UTF-8 should be used for web content and all content  consider convertings any content in legacy encoding UTF-8  "
   ]
  },
  {
   "cell_type": "raw",
   "id": "ce616b68",
   "metadata": {},
   "source": [
    "Q7. What qualifies ASCII text as a form of Unicode text?"
   ]
  },
  {
   "cell_type": "raw",
   "id": "1e033599",
   "metadata": {},
   "source": [
    "unicode and ASCII are the most popular encoding standards \n",
    "By using some online tools we can qualifying ASCII  text as a form of unicode text"
   ]
  },
  {
   "cell_type": "raw",
   "id": "2768fad3",
   "metadata": {},
   "source": [
    "Q8. How much of an effect does the change in string types in Python 3.X have on your code?"
   ]
  },
  {
   "cell_type": "code",
   "execution_count": null,
   "id": "736d9f74",
   "metadata": {},
   "outputs": [],
   "source": [
    " In python 2 has ASCII str() types,seperate unicode , but no byte type\n",
    "In  python 3 we finally have unicode ,strings and two byte classes byte and byte array"
   ]
  }
 ],
 "metadata": {
  "kernelspec": {
   "display_name": "Python 3 (ipykernel)",
   "language": "python",
   "name": "python3"
  },
  "language_info": {
   "codemirror_mode": {
    "name": "ipython",
    "version": 3
   },
   "file_extension": ".py",
   "mimetype": "text/x-python",
   "name": "python",
   "nbconvert_exporter": "python",
   "pygments_lexer": "ipython3",
   "version": "3.9.7"
  }
 },
 "nbformat": 4,
 "nbformat_minor": 5
}
