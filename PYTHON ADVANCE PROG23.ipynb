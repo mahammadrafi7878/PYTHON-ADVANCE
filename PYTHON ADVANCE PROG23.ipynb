{
 "cells": [
  {
   "cell_type": "raw",
   "id": "de95898a",
   "metadata": {},
   "source": [
    "Q1. If you have any, what are your choices for increasing the comparison between different figures on the same graph?"
   ]
  },
  {
   "cell_type": "raw",
   "id": "383235fb",
   "metadata": {},
   "source": [
    "In matplotlib we can draw multiple graphs in a single garph. them we compare two or more graphs in a same graph with a single plot.\n",
    "One is by using subplot()  function and the other one by using superimposition of second graph will appaear on the same plot.\n",
    "MULTIPLE PLOT USING SUBPLOT() syntax: \n",
    "  A subplot function is a wrapper function which allows the programmer to plot maore than one graph in a single fig by just calling at once.\n",
    "     matplotlib.pyplot.subplot(nrows=1,ncolumns=1,sharex,sharey,squeexe)\n",
    " MULTIPLE PLOT USING SUPER IMPOSITION : \n",
    "   subplot2grid(). it is almost have same as subplots function but provie=des more flexibility to arrange plot objects according to need for programmer\n",
    "   \n",
    "   matplotlib.pyplot.subplot2grid(shape,rowspan=1,colspan=1,fig)"
   ]
  },
  {
   "cell_type": "raw",
   "id": "83ee1141",
   "metadata": {},
   "source": [
    "Q2. Can you explain the benefit of compound interest over a higher rate of interest that does not compound after reading this chapter?"
   ]
  },
  {
   "cell_type": "raw",
   "id": "a7c098d1",
   "metadata": {},
   "source": [
    "The formula for noraml interest with high rate is PTR/100  \n",
    "where 'T' is time,'R' is rate of interest, \"p\" is money\n",
    "The formula for compound interst is   p(1+(r/n))^(nt)\n",
    "  The normal interest with high rate is only calculate interest for total period of time 'T\" .\n",
    "    But using compound interesrt it will calculate interest on the period of month or year on the combination of (total amount and interset before month)"
   ]
  },
  {
   "cell_type": "raw",
   "id": "7ec5d18d",
   "metadata": {},
   "source": [
    "Q3. What is a histogram, exactly? Name a numpy method for creating such a graph."
   ]
  },
  {
   "cell_type": "raw",
   "id": "cc36eced",
   "metadata": {},
   "source": [
    "A histogram is basicallly used to represent data provided in form of some groups.\n",
    "It is accurate method for graphicak representaytion of numerical data distribution .\n",
    "It is a type of bar plotwhere x- axis  represent the bin size , while y - axis  represents information about frequency.\n",
    "  \n",
    "  Histogram are firstly sort the given number and then divides bins , here giving number of bins is our choice ,  the binsize is nothing but maximuym value in that data divided with number of bins , then it will give the bin size.\n",
    "  \n",
    "  In numpy also we can create histogram by using the in built function  numpy.histogram()\n",
    "      numpy.histogram(data,bins=n,range)"
   ]
  },
  {
   "cell_type": "raw",
   "id": "ccfaee87",
   "metadata": {},
   "source": [
    "Q4. If necessary, how do you change the aspect ratios between the X and Y axes?"
   ]
  },
  {
   "cell_type": "raw",
   "id": "969d39ac",
   "metadata": {},
   "source": [
    "The method set_aspect() is used to set the aspect ratios .\n",
    "The parameter of this method is a number which is  a division of x-axis with respect to y=axis \n",
    "aspect ratio also can be changed by using pbaspect() method.\n",
    "      \n",
    "      set_aspect(n)"
   ]
  },
  {
   "cell_type": "raw",
   "id": "f417ade6",
   "metadata": {},
   "source": [
    "Q5. Compare and contrast the three types of array multiplication between two numpy arrays: dot product, outer product, and regular multiplication of two numpy arrays."
   ]
  },
  {
   "cell_type": "raw",
   "id": "f4335b5d",
   "metadata": {},
   "source": [
    "The outer product of two coordinate  vectors is  a matrix.\n",
    "If two vectors have dimension n and m , their outer product is an n+m matrix.a*b+a1*b1...\n",
    "The dot product which takes pair of coordinate   a1.b1+a2.b2+a3.b3+....\n",
    "\n",
    "the multiplication of two array is sum of first colum of first arry multiplication with first row of second array , like these wise sum(col*row) of two arrays will be said as multiplication of two arrays.\n",
    "The rule of multiplivcation of two array id the number columns in first array will be equal to the number of rows in second array if these are not equal then we cannot perform multiplication of two rrays"
   ]
  },
  {
   "cell_type": "raw",
   "id": "6a1182f2",
   "metadata": {},
   "source": [
    "Q6. Before you buy a home, which numpy function will you use to measure your monthly mortgage payment?"
   ]
  },
  {
   "cell_type": "raw",
   "id": "97b226ab",
   "metadata": {},
   "source": [
    "To measure montly moratage payment before buying any thing possible in python using numpy library function givan as \n",
    "\n",
    "    np.pmt(rate,nper,pr)\n",
    "    \n",
    "    rate : the periodic invest rate\n",
    "    nper:The number of payment periods (monthly) in the life span of the mortage loan.\n",
    "    pr  : The total value of the mortage loan."
   ]
  },
  {
   "cell_type": "raw",
   "id": "f9d9e25d",
   "metadata": {},
   "source": [
    "Q7. Can string data be stored in numpy arrays? If so, list at least one restriction that applies to this data."
   ]
  },
  {
   "cell_type": "raw",
   "id": "5de73b49",
   "metadata": {},
   "source": [
    "The dtype of any numpy array containg string values is maximum length of any string present in the array, once set it will only able to store new string having length not more than the maximum length at the time of operation.\n",
    "\n",
    "to restrict applying for string data then we need to create arbitary integer   using the   'dtype!='object'"
   ]
  }
 ],
 "metadata": {
  "kernelspec": {
   "display_name": "Python 3 (ipykernel)",
   "language": "python",
   "name": "python3"
  },
  "language_info": {
   "codemirror_mode": {
    "name": "ipython",
    "version": 3
   },
   "file_extension": ".py",
   "mimetype": "text/x-python",
   "name": "python",
   "nbconvert_exporter": "python",
   "pygments_lexer": "ipython3",
   "version": "3.9.7"
  }
 },
 "nbformat": 4,
 "nbformat_minor": 5
}
