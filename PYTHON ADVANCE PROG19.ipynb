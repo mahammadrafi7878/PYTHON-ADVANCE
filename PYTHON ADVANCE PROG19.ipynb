{
 "cells": [
  {
   "cell_type": "raw",
   "id": "e0be2c5d",
   "metadata": {},
   "source": [
    "Q1. Define the relationship between a class and its instances. Is it a one-to-one or a one-to-many partnership, for example?"
   ]
  },
  {
   "cell_type": "raw",
   "id": "71ef4f02",
   "metadata": {},
   "source": [
    "Instance is an object that belongs to a class , for instance list is a class in python when we create a list we have instance of the list class .\n",
    "A class is blue print which you use to create objects. An object is instances of a class, object and instances are the same thing , but the word instance indicates the relationship of an object to its class.\n",
    "Every thing in python is an object such as integers,lists,dictionaries, functions and so on . Every object has a type and the object types are created using classes.. \n",
    "\n",
    "classes and its instances are one to many partnership.\n",
    " example: \n",
    " for instance list is a class in python when we create a list we have instance of the list class ."
   ]
  },
  {
   "cell_type": "raw",
   "id": "e8d08ddd",
   "metadata": {},
   "source": [
    "Q2. What kind of data is held only in an instance?"
   ]
  },
  {
   "cell_type": "raw",
   "id": "b5f6e9dd",
   "metadata": {},
   "source": [
    "Instance data is defined in the data division in the object paragraph of a class defination and is processed by procedural code in the instances methods of a class . \n",
    "Instance data is organizes into logicalrecord and independent data description entries in the same manner as program data.\n",
    "Instance variables hold values that must be referenced by more than one method, constructor or block or essential part of an object state that must be present through class."
   ]
  },
  {
   "cell_type": "raw",
   "id": "86457084",
   "metadata": {},
   "source": [
    "Q3. What kind of knowledge is stored in a class?"
   ]
  },
  {
   "cell_type": "raw",
   "id": "ca9d4675",
   "metadata": {},
   "source": [
    "a class is like an object constructor  or a blue print for creating objects.\n",
    "In classes have constructors or methods and parameters."
   ]
  },
  {
   "cell_type": "raw",
   "id": "bc555710",
   "metadata": {},
   "source": [
    "Q4. What exactly is a method, and how is it different from a regular function?"
   ]
  },
  {
   "cell_type": "raw",
   "id": "8feeb496",
   "metadata": {},
   "source": [
    "A function is set of instructors or procedures to perform a specific task and a method is a set of instructions that are associated with an object.\n",
    "Functions can be called only by its name as it is defined.\n",
    "Methods cannot be called by its name only , we need to invoke the class by a reference of that class in which it is defined.\n",
    "Method is defined with in a class hence they are independent.\n",
    "\n",
    "Functions written inside class are claaed as methods and outside class is called as functions"
   ]
  },
  {
   "cell_type": "raw",
   "id": "689bab1d",
   "metadata": {},
   "source": [
    "Q5. Is inheritance supported in Python, and if so, what is the syntax?"
   ]
  },
  {
   "cell_type": "raw",
   "id": "2ad73371",
   "metadata": {},
   "source": [
    "Inheritance allows use to define a class that inherits all the methods and properties fromanother class .\n",
    "Parent class is the class being inheritance from also called as base class.\n",
    "child class is the class that inherits from another class , also called as derived class.\n",
    "\n",
    "syntax:   class child_class(parent_class):\n",
    "               pass"
   ]
  },
  {
   "cell_type": "raw",
   "id": "756cebd0",
   "metadata": {},
   "source": [
    "Q6. How much encapsulation (making instance or class variables private) does Python support?"
   ]
  },
  {
   "cell_type": "raw",
   "id": "c9821a07",
   "metadata": {},
   "source": [
    "Encapsulation means making instance or class variable is private.\n",
    "Encapsulation is one of the fundemental concept in oop.\n",
    "It describes the idea of wrapping data and method that work on data with in one unit.\n",
    "This pots restriction on accessing variables and methods directly and can be prevent the accidental modification of data.\n",
    "To prevent accidental change, an object variable can be changed by objects method those types of variables are known as private variables."
   ]
  },
  {
   "cell_type": "raw",
   "id": "c0381373",
   "metadata": {},
   "source": [
    "Q7. How do you distinguish between a class variable and an instance variable?"
   ]
  },
  {
   "cell_type": "raw",
   "id": "dd637cef",
   "metadata": {},
   "source": [
    "class variables are shared across all objects while instance variables are for data unique to each instance.\n",
    "class variables are also known as static variables are declared with static keyword in a class but out side method , constructor or block.\n",
    "Instance variabls are created when an object is created, with the use of key word and destroyed when objest is destroyed."
   ]
  },
  {
   "cell_type": "raw",
   "id": "4ba50639",
   "metadata": {},
   "source": [
    "Q8. When, if ever, can self be included in a class's method definitions?"
   ]
  },
  {
   "cell_type": "raw",
   "id": "020e3f6c",
   "metadata": {},
   "source": [
    "self is a covention in python keyword it self is a parameter . instance method and user can use another parameter in place of it.  so we can use self when ever and if ever."
   ]
  },
  {
   "cell_type": "raw",
   "id": "ee5c0f16",
   "metadata": {},
   "source": [
    "Q9. What is the difference between the _ _add_ _ and the _ _radd_ _ methods?"
   ]
  },
  {
   "cell_type": "raw",
   "id": "36889ba6",
   "metadata": {},
   "source": [
    "python __add__ methods add two object and returns a new object a sa resultant object.\n",
    "  example:  a.__add__b  \n",
    " python __radd__ methods implemnet the reverse addition operation that is addition operation that is addition onn the reflected or swapped operands \n",
    " \n",
    " example a.__add__b  turns into   b.__radd__a"
   ]
  },
  {
   "cell_type": "raw",
   "id": "dff70e47",
   "metadata": {},
   "source": [
    "Q10. When is it necessary to use a reflection method? When do you not need it, even though you support the operation in question?"
   ]
  },
  {
   "cell_type": "raw",
   "id": "94d0feda",
   "metadata": {},
   "source": [
    "Reflection refers to the ability of code to be able to examine attributed about objects that might passed as parameters to a function.\n",
    "example:\n",
    "     if we write type(obj)  then python will return an object which represents the type of obj.\n",
    "   Using reflection , we can write on recursive reverse function that will works for strings , listsand any other sequen=ce that supports slicing and concatenation.\n",
    "   If an object refrened to strings then python will return str type.\n",
    "   \n",
    "   examples of relcections \n",
    "     type, isinstance,callable,dir,getattr"
   ]
  },
  {
   "cell_type": "raw",
   "id": "1e0e8ab6",
   "metadata": {},
   "source": [
    "Q11. What is the _ _iadd_ _ method called?"
   ]
  },
  {
   "cell_type": "raw",
   "id": "56872006",
   "metadata": {},
   "source": [
    "the __add__ method in python specifies what happens when you call + on two objects  i.e obj1+obj2\n",
    "the __iadd__ method is actually storng that value its adding into self.value   i.e   obj1=obj1+obj2  ,  \n",
    "__iadd__ method calcuulate self.value and stores it"
   ]
  },
  {
   "cell_type": "raw",
   "id": "0260975d",
   "metadata": {},
   "source": [
    "Q12. Is the _ _init_ _ method inherited by subclasses? What do you do if you need to customize its behavior within a subclass?"
   ]
  },
  {
   "cell_type": "raw",
   "id": "8f679850",
   "metadata": {},
   "source": [
    "subclass python inherits the variable and method __init__ method from the base class in programib=ng.\n",
    "we can customize the behaviour in subclass by using python in built method   super()  , using these we can call sub class constructror and customize the behaviour."
   ]
  }
 ],
 "metadata": {
  "kernelspec": {
   "display_name": "Python 3 (ipykernel)",
   "language": "python",
   "name": "python3"
  },
  "language_info": {
   "codemirror_mode": {
    "name": "ipython",
    "version": 3
   },
   "file_extension": ".py",
   "mimetype": "text/x-python",
   "name": "python",
   "nbconvert_exporter": "python",
   "pygments_lexer": "ipython3",
   "version": "3.9.7"
  }
 },
 "nbformat": 4,
 "nbformat_minor": 5
}
