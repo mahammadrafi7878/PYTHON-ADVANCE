{
 "cells": [
  {
   "cell_type": "raw",
   "id": "0b0d2b9a",
   "metadata": {},
   "source": [
    "Q1. What is the relationship between classes and modules?"
   ]
  },
  {
   "cell_type": "raw",
   "id": "3793ce66",
   "metadata": {},
   "source": [
    "Class is nothng but an entity that defines not completely  or class is classification of real world entity . class is like a blue print. we can create number of classes.\n",
    "A file contains number of classes then it is called as modules."
   ]
  },
  {
   "cell_type": "raw",
   "id": "39a43601",
   "metadata": {},
   "source": [
    "Q2. How do you make instances and classes?"
   ]
  },
  {
   "cell_type": "raw",
   "id": "44d502ed",
   "metadata": {},
   "source": [
    "We can create a class by using Class statement and giving class name.\n",
    "In side thisclass we create classes of instances or methods by using __ini__().\n",
    "it is a default method and is useful to pass inforation to class."
   ]
  },
  {
   "cell_type": "raw",
   "id": "3e677bb4",
   "metadata": {},
   "source": [
    "Q3. Where and how should be class attributes created?\n",
    "\n"
   ]
  },
  {
   "cell_type": "raw",
   "id": "bf596eed",
   "metadata": {},
   "source": [
    "Class attributes belongs to the class it self.\n",
    "They will shared by all instances such attributes defined in class body part usually at the top.\n",
    "ex:\n",
    "class HELLO:\n",
    "   count=0\n",
    "   sum=0\n",
    "   def instances(self):\n",
    "       pass \n",
    " "
   ]
  },
  {
   "cell_type": "raw",
   "id": "bb561de5",
   "metadata": {},
   "source": [
    "Q4. Where and how are instance attributes created?"
   ]
  },
  {
   "cell_type": "raw",
   "id": "bd85ba63",
   "metadata": {},
   "source": [
    "unlike class attributes, instance attributes are not shared by objects.\n",
    "Every object has its own copy of the instance attribute\n",
    "ex:\n",
    "class Emp:\n",
    "   def __init__(self):\n",
    "      self.name=\"xyz\n",
    "   def __init__(self):\n",
    "   self.college=\"mams\"\n",
    "   \n",
    "var(), dir() functions are used to display attributes.\n",
    "var() function displays attributes of instance in the form of dictionaries.\n",
    "dir()  function displays both instances and class attributes."
   ]
  },
  {
   "cell_type": "raw",
   "id": "ac46ce12",
   "metadata": {},
   "source": [
    "Q5. What does the term \"self\" in a Python class mean?"
   ]
  },
  {
   "cell_type": "raw",
   "id": "cdc0435a",
   "metadata": {},
   "source": [
    "Self is a first parameter in class method or instance method.\n",
    "self is a default parameter it is not a statement it is just a name.\n",
    "Recall, it when instance method is called from instance object"
   ]
  },
  {
   "cell_type": "raw",
   "id": "da918fa3",
   "metadata": {},
   "source": [
    "Q6. How does a Python class handle operator overloading?"
   ]
  },
  {
   "cell_type": "raw",
   "id": "2cc1237f",
   "metadata": {},
   "source": [
    "lets take a function \n",
    "def sum(a,b):\n",
    "    return a+b\n",
    "here passing integer and strings , these are different data type but it oerforms as for integer it perform as sum and for strings it perform as concatenation operations.\n",
    "The ability of function or an operator to behave in different ways depending upon the parameters that are passed to a function.\n",
    "To handle these type f over loading  \n",
    "The name of the method should began with two under scores(__)and end with double under score(__)\n",
    "the \"+\" operator overloaded using a special method __ad__()\n"
   ]
  },
  {
   "cell_type": "raw",
   "id": "43c3ad34",
   "metadata": {},
   "source": [
    "Q7. When do you consider allowing operator overloading of your classes?\n",
    "\n"
   ]
  },
  {
   "cell_type": "raw",
   "id": "c1d1c7e4",
   "metadata": {},
   "source": [
    "The purpose of operator over loding is to provide a special meaning of an operator for a user defined datatypes."
   ]
  },
  {
   "cell_type": "raw",
   "id": "4300a22a",
   "metadata": {},
   "source": [
    "Q8. What is the most popular form of operator overloading?\n",
    "\n"
   ]
  },
  {
   "cell_type": "raw",
   "id": "0fbdd4ef",
   "metadata": {},
   "source": [
    "A popular and convinent example is Addition(+) operator.\n",
    "\"+\" operator on two numbers and same operator perform concatenation we have strings."
   ]
  },
  {
   "cell_type": "raw",
   "id": "ce0cbe2d",
   "metadata": {},
   "source": [
    "Q9. What are the two most important concepts to grasp in order to comprehend Python OOP code?"
   ]
  },
  {
   "cell_type": "raw",
   "id": "97a5a406",
   "metadata": {},
   "source": [
    "Inheritence and Polymarphism are key ingredients for desgining robust, flexible and easy to maintain software"
   ]
  }
 ],
 "metadata": {
  "kernelspec": {
   "display_name": "Python 3 (ipykernel)",
   "language": "python",
   "name": "python3"
  },
  "language_info": {
   "codemirror_mode": {
    "name": "ipython",
    "version": 3
   },
   "file_extension": ".py",
   "mimetype": "text/x-python",
   "name": "python",
   "nbconvert_exporter": "python",
   "pygments_lexer": "ipython3",
   "version": "3.9.7"
  }
 },
 "nbformat": 4,
 "nbformat_minor": 5
}
