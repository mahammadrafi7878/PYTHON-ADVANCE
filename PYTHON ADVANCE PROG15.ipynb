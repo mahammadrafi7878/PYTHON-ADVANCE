{
 "cells": [
  {
   "cell_type": "raw",
   "id": "c13b3739",
   "metadata": {},
   "source": [
    "1.What are the new features added in Python 3.8 version?"
   ]
  },
  {
   "cell_type": "raw",
   "id": "d2bc7c37",
   "metadata": {},
   "source": [
    "f-strings now support \"=\"  :\n",
    "      This string function is also known as Literal String Interpolation, The idea behind f-string is to make a string interpolation simpler, python 3.8 allows the use of Assignment expression(:=) and in a string function.\n",
    "       example:\n",
    "       if we have two variables a, b and we want to print like \"a+b\" along with result\n",
    "       "
   ]
  },
  {
   "cell_type": "code",
   "execution_count": 5,
   "id": "0dff9d74",
   "metadata": {},
   "outputs": [
    {
     "name": "stdout",
     "output_type": "stream",
     "text": [
      "a+b=15\n",
      "15\n"
     ]
    }
   ],
   "source": [
    "a=5\n",
    "b=10\n",
    "# we can use f=string here \n",
    "print(f'{a+b=}')\n",
    "#or \n",
    "print(f'{(c:= a+b)}')"
   ]
  },
  {
   "cell_type": "raw",
   "id": "39a18266",
   "metadata": {},
   "source": [
    "REVERSED() works with dictionarries:\n",
    "reversed() can be used for accessing the element in the reverse of insertion "
   ]
  },
  {
   "cell_type": "code",
   "execution_count": 8,
   "id": "aa32e55f",
   "metadata": {},
   "outputs": [
    {
     "name": "stdout",
     "output_type": "stream",
     "text": [
      "['z', 'y', 'x']\n"
     ]
    },
    {
     "data": {
      "text/plain": [
       "[('z', 3), ('y', 2), ('x', 1)]"
      ]
     },
     "execution_count": 8,
     "metadata": {},
     "output_type": "execute_result"
    }
   ],
   "source": [
    "my_dict=dict(x=1,y=2,z=3)\n",
    "print(list(reversed(my_dict)))\n",
    "list(reversed(my_dict.items()))"
   ]
  },
  {
   "cell_type": "raw",
   "id": "c6cd4521",
   "metadata": {},
   "source": [
    "No paranthesis for return and yield statement:\n",
    "      Yield and return statement do not require parethesis to return multiple values"
   ]
  },
  {
   "cell_type": "raw",
   "id": "b1ef2d54",
   "metadata": {},
   "source": [
    "pow() function:\n",
    "In the three argument form pow(), when the exponeent is -1, it calculates modular multiplicative inverse of the given value"
   ]
  },
  {
   "cell_type": "code",
   "execution_count": 10,
   "id": "3856c4a9",
   "metadata": {},
   "outputs": [
    {
     "name": "stdout",
     "output_type": "stream",
     "text": [
      "119\n"
     ]
    }
   ],
   "source": [
    "print(pow(38,-1,137))"
   ]
  },
  {
   "cell_type": "raw",
   "id": "acd948b3",
   "metadata": {},
   "source": [
    "SYNTAX WARNING:\n",
    "if we missed a comma in our code like such as    a=[(1,2)(3,4)] instead of throwing type error, it displays syntax error like   synatx warning: 'tuple ' object is not callable , pheraphs you missed the comma"
   ]
  },
  {
   "cell_type": "raw",
   "id": "ade5d5df",
   "metadata": {},
   "source": [
    "DICTIONARY COMPREHENSION:\n",
    "     Dict comprehension have been modified so that the key is completed first and then value  complted secondly\n",
    "    "
   ]
  },
  {
   "cell_type": "code",
   "execution_count": 12,
   "id": "c185090a",
   "metadata": {},
   "outputs": [
    {
     "name": "stdout",
     "output_type": "stream",
     "text": [
      "name:shaik\n",
      "age:24\n"
     ]
    }
   ],
   "source": [
    "data={input('name:'),input('age:')}"
   ]
  },
  {
   "cell_type": "raw",
   "id": "e3e4aff4",
   "metadata": {},
   "source": [
    "CSV module:\n",
    " the csv.DictReader row returns instances of dictionaries instead of a \"collection.OrderDict\""
   ]
  },
  {
   "cell_type": "raw",
   "id": "20db925b",
   "metadata": {},
   "source": [
    "IMPORT LIB_METADATA:\n",
    " importlib_metadata is a new library added in python standard utility modules , that provides an API for accessing an instance called packages metadata"
   ]
  },
  {
   "cell_type": "raw",
   "id": "70ffba4d",
   "metadata": {},
   "source": [
    "ASSIGNMENT EXPRESSION  (:=):\n",
    "   This operator is used toassign and return a variable in the same expression.\n",
    "   This removes the need for initializing the variable upfront\n",
    "   The major benfit of remove some line of code  it is also known as \"The walrus operator\""
   ]
  },
  {
   "cell_type": "code",
   "execution_count": 20,
   "id": "21da8c0d",
   "metadata": {},
   "outputs": [
    {
     "name": "stdout",
     "output_type": "stream",
     "text": [
      "the values of b is 20 is greater than10\n"
     ]
    }
   ],
   "source": [
    "a=20\n",
    "if (b:=a)>10:\n",
    "    print (\"the values of b is\",b,\"is greater than10\")"
   ]
  },
  {
   "cell_type": "raw",
   "id": "7fcc7db1",
   "metadata": {},
   "source": [
    "2.\tWhat is monkey patching in Python?"
   ]
  },
  {
   "cell_type": "raw",
   "id": "4db2c12b",
   "metadata": {},
   "source": [
    "In python , The term monkey patch refers to a dynamic or runtime modifications of a class or module.\n",
    "In python we can actually change the behavour of code at runtime\n",
    "\n",
    "class A:\n",
    "    def fun(self):\n",
    "        print(\"func() is being called\")   \n",
    "        \n",
    "saving above code in monk .py\n",
    "we can use above module (monk) in below code and change the behaviur of fun( at run time by assigning different value\n",
    "\n",
    "\n",
    "import monk\n",
    "def monkey_f(self):\n",
    "   print(\"monkey_f() is being called\")\n",
    "   \n",
    "monk.A>func=monkey_f\n",
    "obj=monk.A\n",
    "obj.funs()"
   ]
  },
  {
   "cell_type": "raw",
   "id": "c48c2e4f",
   "metadata": {},
   "source": [
    "3.\tWhat is the difference between a shallow copy and deep copy?"
   ]
  },
  {
   "cell_type": "raw",
   "id": "d60e171e",
   "metadata": {},
   "source": [
    "A shallow copy constructs a new compound object and then (to the extent possible) inserts references into it to the objects found in the original\n",
    "A deep copy constructs a new compound object and then recursively, insert copy intoit of the objects found in the original.\n",
    "\n",
    "A shallow copy , a copy of the original object is stored and only the refrence address is finally copied.\n",
    "In deep copy, The copy of the original object and the repetative copies both are stored."
   ]
  },
  {
   "cell_type": "raw",
   "id": "588a1d1b",
   "metadata": {},
   "source": [
    "4.\tWhat is the maximum possible length of an identifier?"
   ]
  },
  {
   "cell_type": "raw",
   "id": "2952eb48",
   "metadata": {},
   "source": [
    "An identifier can have a maximum length of 79 characters in python."
   ]
  },
  {
   "cell_type": "raw",
   "id": "53dea971",
   "metadata": {},
   "source": [
    "5.\tWhat is generator comprehension?"
   ]
  },
  {
   "cell_type": "raw",
   "id": "0b503adc",
   "metadata": {},
   "source": [
    "A generator comprehension is a single line specification for defining a generator in python.\n",
    "Generator comprehension are not the only for defining generators in python\n",
    "\n",
    "\n",
    "synatx:\n",
    "   (<expression> for <var> in <iterable> [if <condition>])\n",
    "   \n",
    "   this is general form of generator comrehension\n",
    "   \n",
    "    here [if<condition>] is optional\n",
    "    \n",
    "    \n",
    "    example:\n",
    "      for <var> in <iterable>:\n",
    "          yield expression"
   ]
  },
  {
   "cell_type": "code",
   "execution_count": 27,
   "id": "b9471cc4",
   "metadata": {},
   "outputs": [
    {
     "name": "stdout",
     "output_type": "stream",
     "text": [
      "0.0\n",
      "4.5\n",
      "3.0\n",
      "3.5\n",
      "2.0\n",
      "2.5\n"
     ]
    }
   ],
   "source": [
    "gen=(i/2 for i in [0,9,6,7,4,5])\n",
    "for i in gen: print(i)"
   ]
  },
  {
   "cell_type": "code",
   "execution_count": null,
   "id": "70fadcfb",
   "metadata": {},
   "outputs": [],
   "source": []
  }
 ],
 "metadata": {
  "kernelspec": {
   "display_name": "Python 3 (ipykernel)",
   "language": "python",
   "name": "python3"
  },
  "language_info": {
   "codemirror_mode": {
    "name": "ipython",
    "version": 3
   },
   "file_extension": ".py",
   "mimetype": "text/x-python",
   "name": "python",
   "nbconvert_exporter": "python",
   "pygments_lexer": "ipython3",
   "version": "3.9.7"
  }
 },
 "nbformat": 4,
 "nbformat_minor": 5
}
