{
 "cells": [
  {
   "cell_type": "raw",
   "id": "eccb6ca6",
   "metadata": {},
   "source": [
    "Q1. What is the meaning of multiple inheritance?"
   ]
  },
  {
   "cell_type": "raw",
   "id": "ea16cb66",
   "metadata": {},
   "source": [
    "In ,ultiple inheritance we can inherit two or more classes at a time unlike inherting one by one classs inheritence .\n",
    " EX; lets assume we classes A,B,C and we want to inherit D class with A,C , then we can inherit it , unlike multi level inheritence"
   ]
  },
  {
   "cell_type": "code",
   "execution_count": 6,
   "id": "0374aca7",
   "metadata": {},
   "outputs": [
    {
     "name": "stdout",
     "output_type": "stream",
     "text": [
      "this From class_c\n",
      "this is from class _A\n"
     ]
    }
   ],
   "source": [
    "class A:\n",
    "    def class_A(self):\n",
    "        print (\"this is from class _A\")\n",
    "        \n",
    "class B:\n",
    "    def class_B(self):\n",
    "        print(\"this is from class_B\")\n",
    "class C:\n",
    "    def class_C(self):\n",
    "        print(\"this From class_c\")\n",
    "class D(A,C):\n",
    "    pass\n",
    "\n",
    "obj=D()\n",
    "obj.class_C()\n",
    "obj.class_A()\n",
    "# if we write obj.class_B it will give error because we dont inhert claas B\n",
    "\n",
    "# if two classes have same method then the inhertited first class method will give output."
   ]
  },
  {
   "cell_type": "raw",
   "id": "c1b989e1",
   "metadata": {},
   "source": [
    "Q2. What is the concept of delegation?"
   ]
  },
  {
   "cell_type": "raw",
   "id": "655b54ac",
   "metadata": {},
   "source": [
    "In object oriented programing language delegation refers to evaluating a member i.e property or method of one object in the context of other object\n",
    "Delegation is a alternative to inheritance for re-using the code among multiple classes\n",
    "Inheritance use the IS-A relation ship , Delegation use the HA-S a reference relation ship to do same.\n",
    "\n",
    "Ex:\n",
    "lets say we have dog class that is subclass of animal class\n",
    "if animal class have a method claaed get_number_of_legs,any instance of dog class can call animal class method."
   ]
  },
  {
   "cell_type": "code",
   "execution_count": 31,
   "id": "14f67271",
   "metadata": {},
   "outputs": [
    {
     "name": "stdout",
     "output_type": "stream",
     "text": [
      "I have 4 legs\n"
     ]
    }
   ],
   "source": [
    "class Animal:\n",
    "    def __init__(self,name,num_of_legs):\n",
    "        self.name=name\n",
    "        self.num_of_legs=num_of_legs\n",
    "    def get_num_of_legs(self):\n",
    "        print(f\"I have {self.num_of_legs} legs\")\n",
    "class Dog(Animal):\n",
    "    def __init__(self,name,num_of_legs):\n",
    "        super().__init__(name,num_of_legs)       # delegation ,the super method is used to give access to metods and properties of parent class\n",
    "dog=Dog('fibo',4)\n",
    "dog.get_num_of_legs()"
   ]
  },
  {
   "cell_type": "raw",
   "id": "ab53a75d",
   "metadata": {},
   "source": [
    "Q3. What is the concept of composition?"
   ]
  },
  {
   "cell_type": "raw",
   "id": "d5b5a80f",
   "metadata": {},
   "source": [
    "Composition is one of the fundemental concept in oop's\n",
    "It describe a class that references one or more objects of the other classes in instance variales.\n",
    "This allows you to model has a assoiation between objects.\n",
    "It enables creating complex types by combining object at different classes.\n",
    "Here by using the class name or by creating the object we can access the the members or methods of one class inside another class"
   ]
  },
  {
   "cell_type": "code",
   "execution_count": 37,
   "id": "403dd74a",
   "metadata": {},
   "outputs": [
    {
     "name": "stdout",
     "output_type": "stream",
     "text": [
      "component class object\n",
      "composite class also created\n",
      "print composite class m2\n",
      "component class m1\n"
     ]
    }
   ],
   "source": [
    "class component:\n",
    "    def __init__(self):\n",
    "        print(\"component class object\")\n",
    "    def m1(self):\n",
    "        print(\"component class m1\")\n",
    "class composite:\n",
    "    def __init__(self):\n",
    "        self.object=component()   # here we are doing composition\n",
    "        print(\"composite class also created\")\n",
    "    def m2(self):\n",
    "        print(\"print composite class m2\")\n",
    "        self.object.m1()\n",
    "obj=composite()\n",
    "obj.m2()\n"
   ]
  },
  {
   "cell_type": "raw",
   "id": "d8d99af3",
   "metadata": {},
   "source": [
    "Q4. What are bound methods and how do we use them?\n"
   ]
  },
  {
   "cell_type": "raw",
   "id": "ac29bbcb",
   "metadata": {},
   "source": [
    "A bound method is one which is dependent on the instances of the class as first argument.\n",
    "It passes the instances as the first argument which is used to access the variables and functions.\n"
   ]
  },
  {
   "cell_type": "code",
   "execution_count": 39,
   "id": "44001c73",
   "metadata": {},
   "outputs": [
    {
     "name": "stdout",
     "output_type": "stream",
     "text": [
      "<bound method A.func of <__main__.A object at 0x0000023FB10634F0>>\n"
     ]
    }
   ],
   "source": [
    "class A:\n",
    "    def func(self,args):\n",
    "        self.arg=arg\n",
    "        print(\"value of arg= \",arg)\n",
    "obj=A()\n",
    "print(obj.func)"
   ]
  },
  {
   "cell_type": "raw",
   "id": "b7f0d018",
   "metadata": {},
   "source": [
    "Q5. What is the purpose of pseudoprivate attributes?"
   ]
  },
  {
   "cell_type": "raw",
   "id": "2bb5e4c6",
   "metadata": {},
   "source": [
    "This is sometime misleading clled as private attributes.\n",
    "It is just a way to localize a name to the class that created it and does not prevent access by code outside the class.\n",
    "That is this feature is mostly intended to avoid name space collision in instances, not to restrict access to names in general"
   ]
  },
  {
   "cell_type": "code",
   "execution_count": null,
   "id": "84a6499a",
   "metadata": {},
   "outputs": [],
   "source": []
  }
 ],
 "metadata": {
  "kernelspec": {
   "display_name": "Python 3 (ipykernel)",
   "language": "python",
   "name": "python3"
  },
  "language_info": {
   "codemirror_mode": {
    "name": "ipython",
    "version": 3
   },
   "file_extension": ".py",
   "mimetype": "text/x-python",
   "name": "python",
   "nbconvert_exporter": "python",
   "pygments_lexer": "ipython3",
   "version": "3.9.7"
  }
 },
 "nbformat": 4,
 "nbformat_minor": 5
}
