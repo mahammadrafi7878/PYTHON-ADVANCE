{
 "cells": [
  {
   "cell_type": "raw",
   "id": "e33194ac",
   "metadata": {},
   "source": [
    "Q1. What is the benefit of regular expressions?"
   ]
  },
  {
   "cell_type": "raw",
   "id": "79e5b2ff",
   "metadata": {},
   "source": [
    "A regular expression is used for identifying a search pattern of a text string.\n",
    "Regular expression are useful in search and replace operations. The typical use case is look for a substring that matches a pattern and replace it with something else..\n",
    "It is also helps in finding out the correctness of the data  and even operations such as finding , replacing and formating the data is possible by using regular expression."
   ]
  },
  {
   "cell_type": "raw",
   "id": "a222ba49",
   "metadata": {},
   "source": [
    "Q2. Describe the difference between the effects of \"(ab)c+\" and \"a(bc)+.\" Which of these, if any, is the unqualified pattern \"abc+\"?"
   ]
  },
  {
   "cell_type": "raw",
   "id": "09539ec5",
   "metadata": {},
   "source": [
    "there is a module called as re module is used to perform regular expression , in that we have somme meta strings to perform finding operations.\n",
    "\n",
    "()  --> is encloses a group of Regex.\n",
    "'+\"   ---> one or more occurance.\n",
    "'.' ----> matches any character except new line \n",
    "\"\n",
    "here given operations to perform are  \"(ab)c+\" , \"a(bc)+.\" and \"abc+\"\n",
    "\n",
    "(ab)c+ ---> it returns encloses group of characters 'ab' with 'c' one or more occurances.\n",
    "a(bc)+.    -----> it also returns encloses group of characters 'bc' with one or more occurance  with 'a', without excepting new line\n",
    "\n",
    "abc+ ----> it returns occurance of abc with along how many times 'c' occured\n"
   ]
  },
  {
   "cell_type": "code",
   "execution_count": 14,
   "id": "4d4f101b",
   "metadata": {},
   "outputs": [
    {
     "name": "stdout",
     "output_type": "stream",
     "text": [
      "['ab', 'ab', 'ab', 'ab', 'ab']\n",
      "['bc', 'bc', 'bc', 'bc']\n",
      "['abc', 'abccc', 'abcc', 'abc', 'abc']\n"
     ]
    }
   ],
   "source": [
    "import re\n",
    "s='abchskkkabcccmjuabcc.cbaakkabcaabc'\n",
    "print(re.findall(\"(ab)c+\",s))\n",
    "print(re.findall(\"a(bc)+.\",s))\n",
    "print(re.findall(\"abc+\",s))"
   ]
  },
  {
   "cell_type": "raw",
   "id": "a1a6d348",
   "metadata": {},
   "source": [
    "Q3. How much do you need to use the following sentence while using regular expressions?\n",
    "\n",
    "\n",
    "\n",
    "import re\n",
    "\n"
   ]
  },
  {
   "cell_type": "raw",
   "id": "a068d59c",
   "metadata": {},
   "source": [
    "Python has a module named 're' work with regular expression. To use it we need to import from the module.\n",
    "re specifies a set of strings that matches it. It is used for both patterns and strings to be searched can be unicode strings as well as 8-bit strings.\n",
    "It primary function is to offer a search ,where it takes a regular expression and a string , here it returns first match or else none."
   ]
  },
  {
   "cell_type": "raw",
   "id": "d50a182f",
   "metadata": {},
   "source": [
    "Q4. Which characters have special significance in square brackets when expressing a range, and under what circumstances?"
   ]
  },
  {
   "cell_type": "raw",
   "id": "9a21d228",
   "metadata": {},
   "source": [
    "Square brackets represents a character class consisting of  a set of characters that we wish to match.\n",
    "The range provide flexible to match a text. With the help of range pattern such as range of numbers (0 to 9), a range of characters (A to Z), and so on. the hyphen ('') character with in the character shows representation a range.\n",
    "Character class allows you to match a single set of characters with a possible set characters, match a character class with the square brackets.\n",
    "we can also specify a range of characters using inside the square brackets.\n",
    "we also inherit the characterclass using caret symbol.  [^a-z] "
   ]
  },
  {
   "cell_type": "code",
   "execution_count": 24,
   "id": "dc1c25fd",
   "metadata": {},
   "outputs": [
    {
     "name": "stdout",
     "output_type": "stream",
     "text": [
      "Range <re.Match object; span=(1, 2), match='W'>\n",
      "Range ['W', 'h', 'i', 'c', 'h', 'c', 'h', 'a', 'r', 'a', 'c', 't', 'e', 'r', 's', 'h', 'a', 'v', 'e', 's', 'p', 'e', 'c', 'i', 'a', 'l']\n",
      "Range ['W', 'h', 'i', 'c', 'h', 'c', 'h', 'a', 'r', 'a', 'c', 't', 'e', 'r', 's', 'h', 'a', 'v', 'e', 's', 'p', 'e', 'c', 'i', 'a', 'l', '0', '3', '9', '8', '7']\n"
     ]
    }
   ],
   "source": [
    "a=' Which characters have special 03987'\n",
    "print('Range',re.search(r'[a-zA-z]',a))\n",
    "print('Range',re.findall(r'[a-zA-z]',a))\n",
    "print('Range',re.findall(r'[a-zA-z0-9]',a))"
   ]
  },
  {
   "cell_type": "raw",
   "id": "8746544e",
   "metadata": {},
   "source": [
    "Q5. How does compiling a regular-expression object benefit you?"
   ]
  },
  {
   "cell_type": "raw",
   "id": "0eb6d8e4",
   "metadata": {},
   "source": [
    "The python regular expression engine can return a compiled regular expression object using compile function.\n",
    "Regular expressions are compiled into pattern objects.\n",
    "Which have method for various operations such as searching for a pattern aor performing string substitutions.\n"
   ]
  },
  {
   "cell_type": "code",
   "execution_count": 26,
   "id": "bd6de42f",
   "metadata": {},
   "outputs": [
    {
     "name": "stdout",
     "output_type": "stream",
     "text": [
      "['e', 'a', 'e', 'e', 'a', 'e', 'c', 'e', 'd', 'a', 'e', 'b', 'e', 'c']\n"
     ]
    }
   ],
   "source": [
    "p=re.compile('[a-e]')\n",
    "print(p.findall('Regular expressions are compiled into pattern objects.'))\n"
   ]
  },
  {
   "cell_type": "code",
   "execution_count": 29,
   "id": "1c6fe0c5",
   "metadata": {},
   "outputs": [
    {
     "data": {
      "text/plain": [
       "['1', '8', '2', '0', '2', '2']"
      ]
     },
     "execution_count": 29,
     "metadata": {},
     "output_type": "execute_result"
    }
   ],
   "source": [
    "q=re.compile('\\d')\n",
    "q.findall('invent 18 jan 2022')"
   ]
  },
  {
   "cell_type": "raw",
   "id": "b14bdc39",
   "metadata": {},
   "source": [
    "Q6. What are some examples of how to use the match object returned by re.match and re.search?"
   ]
  },
  {
   "cell_type": "raw",
   "id": "c470bb69",
   "metadata": {},
   "source": [
    "The re.search() and re.match()both are function of re module in python.\n",
    "These functions are very efficient and fast for searching in strings.The function searches for some substring in string and returns a match object if found, else it returns None.\n",
    "Both returns the first match of a substring found in string ,but have some differences , re.match() searches only from the begining of the string and return match object if found.But if match string is found some where in the middle of the string. it returns none.\n",
    "re.search() searches for the whole string even if the string contains multiple lines and tries to match of substring in all the line of string.\n",
    "\n",
    "\n"
   ]
  },
  {
   "cell_type": "code",
   "execution_count": 31,
   "id": "c9aca627",
   "metadata": {},
   "outputs": [],
   "source": [
    "string1='''Both returns the first match of a substring found in string ,but have some differences , re.match() searches only from the begining of the string and return match object if found.But if match string is found some where in the middle of the string. it returns none.'''\n",
    "string2=\"\"\"The re.search() and re.match()both are function of re module in python.\n",
    "These functions are very efficient and fast for searching in strings.The function searches for some substring in string and returns a match object if found, else it returns None.\n",
    "Both returns the first match of a substring found in string ,but have some differences , re.match() searches only from the begining of the string and return match object if found.But if match string is found some where in the middle of the string. it returns none.\n",
    "re.search() searches for the whole string even if the string contains multiple lines and tries to match of substring in all the line of string.\n",
    "\"\"\""
   ]
  },
  {
   "cell_type": "code",
   "execution_count": 34,
   "id": "256f0d71",
   "metadata": {},
   "outputs": [
    {
     "name": "stdout",
     "output_type": "stream",
     "text": [
      "<re.Match object; span=(111, 115), match='fast'> re.IGNORECASE\n",
      "None re.IGNORECASE\n"
     ]
    }
   ],
   "source": [
    "print(re.search('fast',string2),re.IGNORECASE)\n",
    "print(re.match('fast',string2),re.IGNORECASE)"
   ]
  },
  {
   "cell_type": "code",
   "execution_count": 40,
   "id": "852e3948",
   "metadata": {},
   "outputs": [
    {
     "name": "stdout",
     "output_type": "stream",
     "text": [
      "<re.Match object; span=(44, 49), match='found'> re.IGNORECASE\n",
      "<re.Match object; span=(0, 4), match='Both'>\n",
      "None\n"
     ]
    }
   ],
   "source": [
    "print(re.search('found',string1),re.IGNORECASE)\n",
    "print(re.match('Both',string1))\n",
    "print(re.match('first',string1))"
   ]
  },
  {
   "cell_type": "raw",
   "id": "ba1885b8",
   "metadata": {},
   "source": [
    "Q7. What is the difference between using a vertical bar (|) as an alteration and using square brackets as a character set?\n"
   ]
  },
  {
   "cell_type": "raw",
   "id": "be9e6024",
   "metadata": {},
   "source": [
    "Square brackets represents a character class consosting of a set of characters, that we wish to match , for example the character class [abc] will match any string a,b,c\n",
    "(|)  this is called as OR symbol , OR symbol works as the OR operator meaning.\n",
    "It checks whether the pattern is before or after the (|) OR symbol is present in the string or not"
   ]
  },
  {
   "cell_type": "raw",
   "id": "dc882bdb",
   "metadata": {},
   "source": [
    "Q8. In regular-expression search patterns, why is it necessary to use the raw-string indicator (r)? In   replacement strings?"
   ]
  },
  {
   "cell_type": "raw",
   "id": "9612877c",
   "metadata": {},
   "source": [
    "'r' character stands for raw, not a regex , the raw string is slightly different from a regular expression.\n",
    "It wont interprete the Back slash '\\\\as an escape character .\n",
    "This is because regular expression engine uses \\ character for it own escaping purpose."
   ]
  },
  {
   "cell_type": "code",
   "execution_count": null,
   "id": "ec506d15",
   "metadata": {},
   "outputs": [],
   "source": []
  }
 ],
 "metadata": {
  "kernelspec": {
   "display_name": "Python 3 (ipykernel)",
   "language": "python",
   "name": "python3"
  },
  "language_info": {
   "codemirror_mode": {
    "name": "ipython",
    "version": 3
   },
   "file_extension": ".py",
   "mimetype": "text/x-python",
   "name": "python",
   "nbconvert_exporter": "python",
   "pygments_lexer": "ipython3",
   "version": "3.9.7"
  }
 },
 "nbformat": 4,
 "nbformat_minor": 5
}
