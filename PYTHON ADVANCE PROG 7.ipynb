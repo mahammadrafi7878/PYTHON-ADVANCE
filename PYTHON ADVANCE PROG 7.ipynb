{
 "cells": [
  {
   "cell_type": "raw",
   "id": "a48be2cc",
   "metadata": {},
   "source": [
    "Q1. What is the purpose of the try statement?"
   ]
  },
  {
   "cell_type": "raw",
   "id": "bc36d1c7",
   "metadata": {},
   "source": [
    "Error's in python can be two types , they are Runtime Error and Syntax Error.\n",
    "Run time Error we can handle by using Try block and Syntax or Compile Error we cannot handle even using Try block.\n",
    "The try block is used to check some code for Errors, i.e the code inside Try blockwill execute eiether when there is no error nor when the program encounter with some in Try block.\n",
    "A try block caqn have more than one except block."
   ]
  },
  {
   "cell_type": "raw",
   "id": "a2557223",
   "metadata": {},
   "source": [
    "Q2. What are the two most popular try statement variations?"
   ]
  },
  {
   "cell_type": "raw",
   "id": "07321711",
   "metadata": {},
   "source": [
    "we can use Try/except  and even we use Try/Except/Except variations.\n",
    "There are two other optional segments to a Try block 1.Else 2.Finally  blocks\n",
    "both of these optional statements comes after the Try and the except block also\n",
    "There nothing to stop code ,from using both else and finally block in a single statement."
   ]
  },
  {
   "cell_type": "raw",
   "id": "ca7ce3f2",
   "metadata": {},
   "source": [
    "Q3. What is the purpose of the raise statement?"
   ]
  },
  {
   "cell_type": "raw",
   "id": "8cc0879a",
   "metadata": {},
   "source": [
    "Python raise keyword is used to raise Exceptions or Errors.\n",
    "If our condition does not meet our criterion but it is in correct according to python interpreter, then we can intensionally raise an exception using raise key word"
   ]
  },
  {
   "cell_type": "raw",
   "id": "73b321f0",
   "metadata": {},
   "source": [
    "Q4. What does the assert statement do, and what other statement is it like?"
   ]
  },
  {
   "cell_type": "raw",
   "id": "8ea383f5",
   "metadata": {},
   "source": [
    "Assertion in any programing language are debugger tools that help  the smooth flow of the code.\n",
    "Assertion are mainly assumptions that a programers know to be true and put them in code incode so that failure of these doesnot allow further to execute further.\n",
    "If the statement is true then it dies nothing and continues the execution , but if the statement is false then it stops execution and throw an error.\n",
    "\n",
    "      syntax: assert condtion"
   ]
  },
  {
   "cell_type": "raw",
   "id": "116581b8",
   "metadata": {},
   "source": [
    "Q5. What is the purpose of the with/as argument, and what other statement is it like?"
   ]
  },
  {
   "cell_type": "raw",
   "id": "22e7bed0",
   "metadata": {},
   "source": [
    "With statement in python is used in exception handling to make the code cleaner and much more readable\n",
    "It simplifying the management of common resources like file streams.\n",
    "With statement used to open files and there is no need to close a file , with statement take care of closing a file , if we dont close it."
   ]
  }
 ],
 "metadata": {
  "kernelspec": {
   "display_name": "Python 3 (ipykernel)",
   "language": "python",
   "name": "python3"
  },
  "language_info": {
   "codemirror_mode": {
    "name": "ipython",
    "version": 3
   },
   "file_extension": ".py",
   "mimetype": "text/x-python",
   "name": "python",
   "nbconvert_exporter": "python",
   "pygments_lexer": "ipython3",
   "version": "3.9.7"
  }
 },
 "nbformat": 4,
 "nbformat_minor": 5
}
