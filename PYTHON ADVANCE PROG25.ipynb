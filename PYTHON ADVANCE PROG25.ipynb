{
 "cells": [
  {
   "cell_type": "raw",
   "id": "9891e988",
   "metadata": {},
   "source": [
    "Q1. What is the distinction between a numpy array and a pandas data frame? Is there a way to convert between the two if there is?"
   ]
  },
  {
   "cell_type": "raw",
   "id": "e74bcafe",
   "metadata": {},
   "source": [
    "PANDAS:\n",
    "1.When we have to work on tabular data ,we prefer the pandas module, The powerful tool of pandas are DataFrame.\n",
    "2.Pandas consume more memory.\n",
    "3.Pandas has a better performance when a number of rows is 500kor more.\n",
    "4.Indexing of the pandas series very slow as compared to array.\n",
    "5.Pandas offer  have a second table object classes  DataFrame.\n",
    "NUMPY:\n",
    "1.When we have to work on numerical data, we prefer numpy module .Where as The power toolof numpy is Array.\n",
    "2.Numpy is memory efficient.\n",
    "3.Numpy has better performnce when the number of rows is 50k or less.\n",
    "4.Indexing of numpy array fast.\n",
    "5.Numpy is capable of providing multidimensional.\n",
    "\n",
    "\n",
    "We can convert data frame into numpy  \n",
    "       \n",
    "       DataFrame.to_numpy(dtype)\n",
    "        \n",
    "   To convert numpy to DataFrame  \n",
    "   \n",
    "   pd.DataFrame(np_array,columns=[])"
   ]
  },
  {
   "cell_type": "raw",
   "id": "287f236c",
   "metadata": {},
   "source": [
    "Q2. What can go wrong when an user enters in a stock-ticker symbol, and how do you handle it?"
   ]
  },
  {
   "cell_type": "raw",
   "id": "c3770be1",
   "metadata": {},
   "source": [
    "When the user enters a non existent stock ticker the program gives an error and stop working.\n",
    "We know that HTTP request of a valid ticker would likely to return 200. In valid ticker would likely to return 404(not found)\n",
    "we can handle it in such a way that if the user enters a nonexistent , The program gives a message saying  'please enter valid sticker'.\n"
   ]
  },
  {
   "cell_type": "raw",
   "id": "1222aad6",
   "metadata": {},
   "source": [
    "Q3. Identify some of the plotting techniques that are used to produce a stock-market chart."
   ]
  },
  {
   "cell_type": "raw",
   "id": "24431821",
   "metadata": {},
   "source": [
    "However the four types that are most  common used to produce a stock market chart are 1.line chart,2.bar chart,3.point and figure chart, and  4.candlestick chart"
   ]
  },
  {
   "cell_type": "raw",
   "id": "2947e902",
   "metadata": {},
   "source": [
    "Q4. Why is it essential to print a legend on a stock market chart?"
   ]
  },
  {
   "cell_type": "raw",
   "id": "84be704b",
   "metadata": {},
   "source": [
    "The text of a legend includes the name of series and depending on the series type the value or values of the current or last point.\n",
    "The legend displays information about the points that are currently hovered over or, if none are hovered over about the last points shown on the plot."
   ]
  },
  {
   "cell_type": "raw",
   "id": "81afac69",
   "metadata": {},
   "source": [
    "Q5. What is the best way to limit the length of a pandas data frame to less than a year"
   ]
  },
  {
   "cell_type": "raw",
   "id": "5034dbea",
   "metadata": {},
   "source": [
    "The best way to  limit the length of the pandas dataframe is using location and indexlocation functio.\n",
    "Where as loc(location )function takes the defined  value of indexes.\n",
    "Where as iloc(index location ) function takes the true value of indexes.\n",
    "\n",
    "df.loc[:366] ,df.iloc[:366]\n",
    "or we can use \n",
    "    \n",
    "    pd.set_option(display.max_row=366)"
   ]
  },
  {
   "cell_type": "raw",
   "id": "0ab06cc6",
   "metadata": {},
   "source": [
    "Q6. What is the definition of a 180-day moving average?"
   ]
  },
  {
   "cell_type": "raw",
   "id": "6e2fec68",
   "metadata": {},
   "source": [
    "The moving average is commonly used with time series to smooth random short term variation and highlet other components present in data.\n",
    "The moving average is also known as rolling mean and is calculated by averaging data of the time series with in k-periods of time.\n",
    "The 180 day moving average means dataset over the past 180 days.\n"
   ]
  },
  {
   "cell_type": "raw",
   "id": "dd6b70ab",
   "metadata": {},
   "source": [
    "Q7. Did the chapter's final example use \"indirect\" importing? If so, how exactly do you do it?"
   ]
  },
  {
   "cell_type": "raw",
   "id": "78026ac1",
   "metadata": {},
   "source": [
    "Unlike explicit imports that throw an error at application startup, Indirect imports in python throw them when they are actually used.Excessively permissive except clauses can hide them and result in unexpected behaviour.\n",
    "\n",
    "By using pkg_resources module , we can consolidate our indirect rwquirements once without having to update code every where."
   ]
  }
 ],
 "metadata": {
  "kernelspec": {
   "display_name": "Python 3 (ipykernel)",
   "language": "python",
   "name": "python3"
  },
  "language_info": {
   "codemirror_mode": {
    "name": "ipython",
    "version": 3
   },
   "file_extension": ".py",
   "mimetype": "text/x-python",
   "name": "python",
   "nbconvert_exporter": "python",
   "pygments_lexer": "ipython3",
   "version": "3.9.7"
  }
 },
 "nbformat": 4,
 "nbformat_minor": 5
}
