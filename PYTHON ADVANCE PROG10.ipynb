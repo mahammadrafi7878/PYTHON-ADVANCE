{
 "cells": [
  {
   "cell_type": "raw",
   "id": "5d481eb5",
   "metadata": {},
   "source": [
    "Q1. What is the difference between __getattr__ and __getattribute__?"
   ]
  },
  {
   "cell_type": "raw",
   "id": "1d1ea95d",
   "metadata": {},
   "source": [
    "1.__getattribute__ has a default implementation but __getattr__ doesnot.\n",
    "2.__getattribute__ is used to retrive an attribute from an instance, it captures every attempt to access an instance attribute  and __getattr__ is executed as the last resources, when attributes not found in a object\n",
    "\n",
    "3.__getattr__ is called when an atrribute lookup has not found the attribute in the usual places ,this method should return the attribute value or rais an attribute error ,if the attribute is found through normal mechanism __getattr__ is not called.   __getattribute__ is called unconditionally to implement attribute access for instances of the class ,if the class also defines __getattribute__ the later will not be called unless __getattribute__ eiether calls it eplicitly or raises an Attribute Error\n"
   ]
  },
  {
   "cell_type": "code",
   "execution_count": 5,
   "id": "8775064c",
   "metadata": {},
   "outputs": [
    {
     "name": "stdout",
     "output_type": "stream",
     "text": [
      "ace value\n",
      "hello ace2\n",
      "{'ace': 'ace value'}\n"
     ]
    }
   ],
   "source": [
    "#example of __getattr__\n",
    "class A:\n",
    "    def __getattr__(self,name):\n",
    "        return (\"hello \"+name)\n",
    "a=A()\n",
    "a.ace='ace value'\n",
    "print(a.ace)\n",
    "print(a.ace2)\n",
    "print(a.__dict__)\n",
    "#__getattr__ is called if there no attribute in the instance  . it is invoked at last\n",
    "#here python could  find the value 'ace' so it prints the value of ace\n",
    "#but 'ace2' cannot not founded so __getattr__ is invoked  "
   ]
  },
  {
   "cell_type": "code",
   "execution_count": 7,
   "id": "96d5a5ef",
   "metadata": {},
   "outputs": [
    {
     "name": "stdout",
     "output_type": "stream",
     "text": [
      "how ace\n",
      "how ace2\n",
      "how __dict__\n"
     ]
    }
   ],
   "source": [
    "# __getattribute__ example\n",
    "class B:\n",
    "    def __getattr__(self,name):\n",
    "        return (\"hai \"+name)\n",
    "    def __getattribute__(self,name):\n",
    "        return (\"how \"+name)\n",
    "b=B()\n",
    "b.ace=\"ace value\"\n",
    "print(b.ace)\n",
    "print(b.ace2)\n",
    "print(b.__dict__)\n",
    "#in this even if there is the attribute in the instances , python calls __getattribute__ first with the attribute as argume\n",
    "#even though we assigned a value'ace value'  to attribute 'ace'  __getattribute__ is invoked first, python does not try \n",
    "#to find ace"
   ]
  },
  {
   "cell_type": "raw",
   "id": "dc33e21b",
   "metadata": {},
   "source": [
    "Q2. What is the difference between properties and descriptors?"
   ]
  },
  {
   "cell_type": "raw",
   "id": "a2a2bc82",
   "metadata": {},
   "source": [
    "python propety() function returns the object of the property class and it is used to create property of a class\n",
    "syntax : Property(fget,fset,fdel,doc)\n",
    "\n",
    "fget() ---> used to get the value of attribute\n",
    "fset()  ---> used to set the value of atribute\n",
    "fdel()  ----> used to delete attribue value\n",
    "doc() ---->string that contains documentation for attribute\n",
    "\n",
    "If no arguments are given,property method returns a base propertyattribute that does not contain any getter,setter or delete.If the doc string is not provided property method takes the doc string of the getter function"
   ]
  },
  {
   "cell_type": "code",
   "execution_count": 10,
   "id": "ce27b02d",
   "metadata": {},
   "outputs": [
    {
     "name": "stdout",
     "output_type": "stream",
     "text": [
      "getting value\n",
      "mahammadrafi\n",
      "setting the value\n",
      "getting value\n",
      "shaik\n"
     ]
    }
   ],
   "source": [
    "#property method\n",
    "class Hello:\n",
    "    def __init__(self,value):\n",
    "        self._value=value\n",
    "    def getValue(self):\n",
    "        print(\"getting value\")\n",
    "        return self._value\n",
    "    def setValue(self,value):\n",
    "        print(\"setting the value\")\n",
    "        self._value=value\n",
    "    value=property(getValue,setValue)\n",
    "x=Hello(\"mahammadrafi\")\n",
    "print(x.value)\n",
    "x.value='shaik'\n",
    "print(x.value)"
   ]
  },
  {
   "cell_type": "raw",
   "id": "adc28ce1",
   "metadata": {},
   "source": [
    "DESCRIPTORS:\n",
    "      Descriptors are python objects that implement a method of the descriptor protocal,which gives the ability to create object that have special behaviour when they are accessed as attributes of other objects.\n",
    "      \n",
    "      _get_(self,obj,type=None)\n",
    "      _set_(self,obj)\n",
    "      _delete_(self,obj)\n",
    "      _set_name_(self,owner,name)\n",
    "      \n",
    "     if the descriptor implements just ._age_()  ,then its said to be a non data descriptive, if it implements ._set_() or ._delete_() then it is said to be a data descriptive"
   ]
  },
  {
   "cell_type": "code",
   "execution_count": 17,
   "id": "bb6318af",
   "metadata": {},
   "outputs": [
    {
     "name": "stdout",
     "output_type": "stream",
     "text": [
      "<__main__.today object at 0x000001B567CA6EB0>\n"
     ]
    }
   ],
   "source": [
    "class today():\n",
    "    def _get_(self,job,type=None):\n",
    "        print(\"accesing aattribute to get value\")\n",
    "        return 45\n",
    "    def _set_(self,obj,value):\n",
    "        print(\"qacessing the attribute to set value\")\n",
    "        return 54\n",
    "class Foo:\n",
    "    attribute1=today()\n",
    "k=Foo()\n",
    "m=k.attribute1\n",
    "print(m)\n",
    "#Here today implements the descriptor protocal  ,once it is instantiated as an attribute of foo, it can be considered as descriptor\n",
    "# when it accessed to the _get_(), the value it always returns a 42\n",
    "#when it accessed to _set_() its value is changed"
   ]
  },
  {
   "cell_type": "raw",
   "id": "6fb60eb6",
   "metadata": {},
   "source": [
    "Q3. What are the key differences in functionality between __getattr__ and __getattribute__, as well as properties and descriptors?"
   ]
  },
  {
   "cell_type": "raw",
   "id": "75a4520e",
   "metadata": {},
   "source": [
    "the key differences of \n",
    "         __getattr__   VS __getattribute__\n",
    "    \n",
    "                __getattribute__ gets called 'first' it is highest priority , whether theres attribute have or not\n",
    "                \n",
    "                __getattr__ gets called last  the lowest proority, if python cannot find attribute\n",
    "                \n",
    "             \n",
    "             \n",
    "          descriptors VS properties:\n",
    "                   python descriptors are created to manage the attributs of different classes which use object as reference   \n",
    "                   \n",
    "                   python property function returns the object of the property class and it is used to create property of class"
   ]
  },
  {
   "cell_type": "code",
   "execution_count": null,
   "id": "a80314d2",
   "metadata": {},
   "outputs": [],
   "source": []
  }
 ],
 "metadata": {
  "kernelspec": {
   "display_name": "Python 3 (ipykernel)",
   "language": "python",
   "name": "python3"
  },
  "language_info": {
   "codemirror_mode": {
    "name": "ipython",
    "version": 3
   },
   "file_extension": ".py",
   "mimetype": "text/x-python",
   "name": "python",
   "nbconvert_exporter": "python",
   "pygments_lexer": "ipython3",
   "version": "3.9.7"
  }
 },
 "nbformat": 4,
 "nbformat_minor": 5
}
